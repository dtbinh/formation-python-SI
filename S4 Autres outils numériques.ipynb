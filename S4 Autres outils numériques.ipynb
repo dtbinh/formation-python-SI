{
 "metadata": {
  "name": "S4 Autres outils num\u00e9riques"
 },
 "nbformat": 3,
 "nbformat_minor": 0,
 "worksheets": [
  {
   "cells": [
    {
     "cell_type": "heading",
     "level": 1,
     "metadata": {},
     "source": [
      "S\u00e9ance 4 : Autres outils de calcul num\u00e9rique"
     ]
    },
    {
     "cell_type": "markdown",
     "metadata": {},
     "source": [
      "15h45 - 16h45 (1h)\n",
      "\n",
      "Introduction de quelques aspects de la bo\u00eete \u00e0 outils *SciPy*.\n",
      "\n",
      "R\u00e9solution it\u00e9rative d'un syst\u00e8me dynamique simple par m\u00e9thode d'Euler. Probl\u00e8mes de stabilit\u00e9 (choix du pas de temps). Comparaison avec les m\u00e9thodes ODEs de SciPy."
     ]
    },
    {
     "cell_type": "code",
     "collapsed": false,
     "input": [],
     "language": "python",
     "metadata": {},
     "outputs": []
    }
   ],
   "metadata": {}
  }
 ]
}
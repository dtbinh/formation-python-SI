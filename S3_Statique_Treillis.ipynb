{
 "metadata": {
  "name": "S3_Statique_Treillis"
 },
 "nbformat": 3,
 "nbformat_minor": 0,
 "worksheets": [
  {
   "cells": [
    {
     "cell_type": "heading",
     "level": 1,
     "metadata": {},
     "source": [
      "S\u00e9ance 3 : Exemple de probl\u00e8me num\u00e9rique"
     ]
    },
    {
     "cell_type": "markdown",
     "metadata": {},
     "source": [
      "<img src='files/images/logo ENS Cachan Bretagne.png'>\n",
      "<strong>Formation Python du <a href='http://www.mecatronique.bretagne.ens-cachan.fr/'>d\u00e9partement M\u00e9catronique</a></strong>"
     ]
    },
    {
     "cell_type": "markdown",
     "metadata": {},
     "source": [
      "14h00 - 15h30\n",
      "\n",
      "Exemple de probl\u00e8me m\u00e9canique simple n\u00e9cessitant de mettre en \u0153uvre un algorithme num\u00e9rique (pivot de Gauss pour r\u00e9soudre \u00ab\u00a0Ax=b\u00a0\u00bb).\n",
      "\n",
      "Le probl\u00e8me choisi est **l'analyse statique d'un treillis pour calculer les actions m\u00e9caniques s'exer\u00e7ant sur les barres**\n",
      "\n",
      "* Description du probl\u00e8me.\n",
      "* Construction du probl\u00e8me et 1er trac\u00e9s du treillis (mise en \u0153uvre de Matplotlib)\n",
      "* Construction du syst\u00e8me d'\u00e9quations lin\u00e9aires (matrices \u00ab\u00a0A et b\u00a0\u00bb) de fa\u00e7on automatis\u00e9e\n",
      "  (en empruntant un peu de th\u00e9orie des graphs)\n",
      "* R\u00e9solution de l'\u00e9quation \u00ab\u00a0Ax=b\u00a0\u00bb par pivot de Gauss. Comparaison avec `numpy.linalg`\n",
      "* Repr\u00e9sentation graphique des tractions/compressions."
     ]
    },
    {
     "cell_type": "heading",
     "level": 2,
     "metadata": {},
     "source": [
      "A) Description du probl\u00e8me du treillis"
     ]
    },
    {
     "cell_type": "markdown",
     "metadata": {},
     "source": [
      "Le treillis est un ensemble de barres connect\u00e9es entre elles \"en triangles\".\n",
      "Ce type de structure est par exemple utilis\u00e9 dans les grues et certains ponts :\n",
      "\n",
      "<a title=\"Pont en treillis, par en:User:Leonard G. [Public domain], via Wikimedia Commons\" href=\"http://commons.wikimedia.org/wiki/File%3ARRTrussBridgeSideView.jpg\">\n",
      "    <img height=\"250\" alt=\"Pont en treillis\" src=\"files/S3_Statique_Treillis/Pont_treillis.jpg\"/>\n",
      "</a>"
     ]
    },
    {
     "cell_type": "markdown",
     "metadata": {},
     "source": [
      "Le contact entre les barres est souvent mod\u00e9lis\u00e9 par des *liaisons pivots*.\n",
      "Par cons\u00e9quent, Lorsque la structure est soumis \u00e0 un chargement (par ex. une masse accroch\u00e9e au bout de la grue)\n",
      "les barres travaillent en *traction/compression*.\n",
      "\n",
      "<img height=\"250\" alt=\"Pont en treillis\" src=\"files/S3_Statique_Treillis/Pont_treillis_graph.jpg\"/>\n",
      "\n",
      "L'objectif de du calcul est de **quantifier ces actions m\u00e9caniques**.\n",
      "\n",
      "*Pourquoi le probl\u00e8me du treillis ?*\n",
      "\n",
      "* Il s'agit d'un probl\u00e8me inspir\u00e9 de la m\u00e9canique,\n",
      "* aboutissant \u00e0 un syst\u00e8me d'\u00e9quations lin\u00e9aires (\"Ax=b\") que l'on peut r\u00e9soudre par pivot de Gauss\n",
      "* Ces \u00e9quations seront issues du principe de la statique.\n",
      "\n",
      "*Remarque :* dans un domaine tout autre (\u00e9lectricit\u00e9), on obtiendrait des \u00e9quations similaires en cherchant les courants dans un r\u00e9seau de r\u00e9sistances."
     ]
    },
    {
     "cell_type": "heading",
     "level": 2,
     "metadata": {},
     "source": [
      "B) Construction du probl\u00e8me"
     ]
    },
    {
     "cell_type": "markdown",
     "metadata": {},
     "source": [
      "Avant de r\u00e9soudre Ax=b, il faut construire la matrice A et le vecteur b,\n",
      "mais pour construire ces matrices, il faut d'abord cr\u00e9er les donn\u00e9es qui *d\u00e9crivent le probl\u00e8me*.\n",
      "\n",
      "\n",
      "*\u00c0 propos de la g\u00e9n\u00e9ricit\u00e9 du programme :*\n",
      "\n",
      "* On va ici s'int\u00e9resser \u00e0 un treillis particulier qu'on pourrait sans doute traiter analytiquement...\n",
      "* ...mais tout l'int\u00e9r\u00eat d'un tel programme est de r\u00e9soudre un treillis de taille arbitraire\n",
      "* ceci explique que le programme doit \u00eatre parfois \u00e9crit de fa\u00e7on plus complexe que n\u00e9cessaire en apparence.\n",
      "* le script `S3_Statique_Treillis/treillis.py` permet de fabriquer un treillis avec un nombre arbitraire de pivot et une forme y=f(x) ajustable."
     ]
    },
    {
     "cell_type": "heading",
     "level": 3,
     "metadata": {},
     "source": [
      "B1) Construction des donn\u00e9es"
     ]
    },
    {
     "cell_type": "markdown",
     "metadata": {},
     "source": [
      "On construit d'abord la liste contenant la position (dans un plan) des pivots.\n",
      "On peut choisir (par exemple) d'utiliser une liste de tuples :"
     ]
    },
    {
     "cell_type": "code",
     "collapsed": false,
     "input": [
      "pivots = [(0, 0), (1, 2), (2, 0), (3, 2), (4, 0)]\n",
      "\n",
      "N_piv = len(pivots)\n",
      "print('treillis \u00e0 {} pivots (dont 2 pivots de fixation)'.format(N_piv))"
     ],
     "language": "python",
     "metadata": {},
     "outputs": [
      {
       "output_type": "stream",
       "stream": "stdout",
       "text": [
        "treillis \u00e0 5 pivots (dont 2 pivots de fixation)\n"
       ]
      }
     ],
     "prompt_number": 2
    },
    {
     "cell_type": "markdown",
     "metadata": {},
     "source": [
      "Repr\u00e9sentation graphique (ou l'int\u00e9r\u00eat de travailler interactivement)"
     ]
    },
    {
     "cell_type": "code",
     "collapsed": false,
     "input": [
      "# Conversion en tablea NumPy pour b\u00e9n\u00e9ficier des facilit\u00e9s du slicing\n",
      "pivots_arr = np.array(pivots)\n",
      "\n",
      "# Trac\u00e9s en boucle:\n",
      "for piv in pivots:\n",
      "    plt.plot(piv[0], piv[1], 'o')\n",
      "\n",
      "# Ajustements des limites :\n",
      "xlim(-.5, 4.5)\n",
      "ylim(-.5, 2.5);"
     ],
     "language": "python",
     "metadata": {},
     "outputs": [
      {
       "output_type": "display_data",
       "png": "[encoded data removed]"
      }
     ],
     "prompt_number": 3
    },
    {
     "cell_type": "markdown",
     "metadata": {},
     "source": [
      "Choix des points d'accroche du treillis :"
     ]
    },
    {
     "cell_type": "code",
     "collapsed": false,
     "input": [
      "# indice des points d'accroche:\n",
      "iP_A = 0 # 1er point du treillis\n",
      "iP_B = 1 # 2\u00e8me point\n",
      "\n",
      "P_A = pivots[iP_A]\n",
      "P_B = pivots[iP_B]"
     ],
     "language": "python",
     "metadata": {},
     "outputs": [],
     "prompt_number": 4
    },
    {
     "cell_type": "markdown",
     "metadata": {},
     "source": [
      "On cr\u00e9er ensuite la liste des barres. Ici on choisit une liste de paires contenant les points.\n",
      "On aurait pu aussi utiliser une liste de paires contenant les indices de ces points dans la liste `pivots`."
     ]
    },
    {
     "cell_type": "code",
     "collapsed": false,
     "input": [
      "barres = [\n",
      " ((0, 0), (2, 0)), # barre entre le pt (0,0) et le pt (2,0)\n",
      " ((1, 2), (2, 0)),\n",
      " ((1, 2), (3, 2)),\n",
      " ((2, 0), (3, 2)),\n",
      " ((2, 0), (4, 0)),\n",
      " ((3, 2), (4, 0))]\n",
      "\n",
      "N_bar = len(barres)\n",
      "print('treillis \u00e0 {} barres'.format(N_bar))"
     ],
     "language": "python",
     "metadata": {},
     "outputs": [
      {
       "output_type": "stream",
       "stream": "stdout",
       "text": [
        "treillis \u00e0 6 barres\n"
       ]
      }
     ],
     "prompt_number": 5
    },
    {
     "cell_type": "markdown",
     "metadata": {},
     "source": [
      "Repr\u00e9sentation graphique :"
     ]
    },
    {
     "cell_type": "code",
     "collapsed": false,
     "input": [
      "color=(0.6, 0.6, 0.8)\n",
      "\n",
      "# Trac\u00e9 des barres, en boucle :\n",
      "for j, bj in enumerate(barres):\n",
      "    # Coordonn\u00e9es des 2 pivots d'accroche:\n",
      "    (x1,y1), (x2, y2) = bj\n",
      "    color = (.5, .5, .8)\n",
      "    plt.plot((x1, x2), (y1, y2), '-', color = color, lw=4, zorder=1)\n",
      "\n",
      "# Trac\u00e9s des pivots :\n",
      "for piv in pivots:\n",
      "    plt.plot(piv[0], piv[1], 'ro')\n",
      "\n",
      "# Ajustements des limites :\n",
      "xlim(-.5, 4.5)\n",
      "ylim(-.5, 2.5);"
     ],
     "language": "python",
     "metadata": {},
     "outputs": [
      {
       "output_type": "display_data",
       "png": "[encoded data removed]"
      }
     ],
     "prompt_number": 6
    },
    {
     "cell_type": "heading",
     "level": 4,
     "metadata": {},
     "source": [
      "Description du chargement des pivots\n"
     ]
    },
    {
     "cell_type": "markdown",
     "metadata": {},
     "source": [
      "Pour d\u00e9crire une force ext\u00e9rieure (2 composantes) s'appliquant au niveau de chaque liaison, on utilise un tableau NumPy de taille $(N_{piv}, 2)$."
     ]
    },
    {
     "cell_type": "markdown",
     "metadata": {},
     "source": [
      "*Question 1:* Cr\u00e9er `F_ext`, un tableau de z\u00e9ros de dimension N_piv * 2"
     ]
    },
    {
     "cell_type": "code",
     "collapsed": false,
     "input": [
      "F_ext = np.zeros((N_piv, 2))\n",
      "F_ext.T # .T signifie \"transpos\u00e9e\". (Utilis\u00e9 ici pour l'esth\u00e9tique)"
     ],
     "language": "python",
     "metadata": {},
     "outputs": [
      {
       "output_type": "pyout",
       "prompt_number": 9,
       "text": [
        "array([[ 0.,  0.,  0.,  0.,  0.],\n",
        "       [ 0.,  0.,  0.,  0.,  0.]])"
       ]
      }
     ],
     "prompt_number": 9
    },
    {
     "cell_type": "markdown",
     "metadata": {},
     "source": [
      "*Question 2 :* Modifier les \u00e9l\u00e9ments `F_ext` pour d\u00e9crire une force de *1 N vers le bas*, s'excer\u00e7ant sur le dernier pivot"
     ]
    },
    {
     "cell_type": "code",
     "collapsed": false,
     "input": [
      "# Appui sur le dernier pivot:\n",
      "\n",
      "# Solution 1)\n",
      "F_ext[N_piv-1, 0] = 0  # composante horizontale\n",
      "F_ext[N_piv-1, 1] = -1 # composante verticale\n",
      "# Solution 2) \n",
      "F_ext[-1] = (0., -1) # effort vers le bas\n",
      "\n",
      "F_ext.T "
     ],
     "language": "python",
     "metadata": {},
     "outputs": [
      {
       "output_type": "pyout",
       "prompt_number": 15,
       "text": [
        "array([[ 0.,  0.,  0.,  0.,  0.],\n",
        "       [ 0.,  0.,  0.,  0., -1.]])"
       ]
      }
     ],
     "prompt_number": 15
    },
    {
     "cell_type": "heading",
     "level": 3,
     "metadata": {},
     "source": [
      "B2) Construction des \u00e9quations (matrices A et b)"
     ]
    },
    {
     "cell_type": "markdown",
     "metadata": {},
     "source": [
      "Les inconnues sont la force de traction qui s'exerce sur chaque barre (6). \"Traction\" indique le choix (arbitraire) de convention de signe :\n",
      "\n",
      "* $f_j>0$ si la barre j est \"\u00e9tir\u00e9e\"\n",
      "* $f_j<0$ si la barre j est \"comprim\u00e9e\"\n",
      "\n",
      "le vecteur des inconnues est $x=(f_1, \\dots, f_{Nbar})$. On veut construire les matrices A et b telles que $A.x = b$"
     ]
    },
    {
     "cell_type": "markdown",
     "metadata": {},
     "source": [
      "Les \u00e9quations d\u00e9rivent de l'application du principe de la statique \u00e0 chaque pivot.\n",
      "\n",
      "$$\\sum_j \\vec{F}(\\text{barre}_j\\rightarrow \\text{pivot}_i) = \\vec{0},\n",
      "\\quad \\text{pour chaque pivot $i$}$$\n",
      "\n",
      "<img height=\"300\" alt=\"\u00c9quation d'\u00e9quilibre d'un pivot\" src=\"files/S3_Statique_Treillis/statique_pivot.png\"/>\n",
      "\n",
      "\n",
      "Cette somme ne doit se faire que sur les *barres incidentes* au pivot consid\u00e9r\u00e9.\n",
      "On va construire la matrice $M$ qui contient l'information :\n",
      "\n",
      "* $m_{ij} = +1$ si la barre $j$ \"arrive\" pivot $i$\n",
      "* $m_{ij} = -1$ si la barre $j$ \"quitte\" pivot $i$\n",
      "\n",
      "<img height=\"120\" alt=\"\u00c9quation d'\u00e9quilibre d'un pivot\" src=\"files/S3_Statique_Treillis/forces_barre.png\"/>\n",
      "\n",
      "(le fait d'arriver ou de quitter doit \u00eatre d\u00e9finit en coh\u00e9rence avec le vecteur directeur de chaque barre, cf. plus bas)\n",
      "\n",
      "Cette matrice s'appelle *matrice d'incidence* (outil issu de la th\u00e9orie des graphs, cf. [fr.wikipedia.org/wiki/Matrice_d'incidence](http://fr.wikipedia.org/wiki/Matrice_d'incidence))"
     ]
    },
    {
     "cell_type": "heading",
     "level": 4,
     "metadata": {},
     "source": [
      "Matrice d'incidence"
     ]
    },
    {
     "cell_type": "code",
     "collapsed": false,
     "input": [
      "Inc_mat = np.zeros((N_piv, len(barres)), dtype=int)\n",
      "\n",
      "for j, bar_j in enumerate(barres):\n",
      "    P1, P2 = bar_j\n",
      "    # Remarquons la convention de signe:\n",
      "    i1 = pivots.index(P1)\n",
      "    Inc_mat[i1,j] = -1 # la barre j \"quitte\" P1\n",
      "    i2 = pivots.index(P2)\n",
      "    Inc_mat[i2,j] = +1 # la barre j \"arrive \u00e0\" P2\n",
      "\n",
      "print('Matrice d\\'incidence:')\n",
      "print(str(Inc_mat).replace('0','.'))"
     ],
     "language": "python",
     "metadata": {},
     "outputs": [
      {
       "output_type": "stream",
       "stream": "stdout",
       "text": [
        "Matrice d'incidence:\n",
        "[[-1  .  .  .  .  .]\n",
        " [ . -1 -1  .  .  .]\n",
        " [ 1  1  . -1 -1  .]\n",
        " [ .  .  1  1  . -1]\n",
        " [ .  .  .  .  1  1]]\n"
       ]
      }
     ],
     "prompt_number": 30
    },
    {
     "cell_type": "markdown",
     "metadata": {},
     "source": [
      "Chaque ligne peut se lire comme l'\u00e9quation d'\u00e9quilibre de chaque pivot, indiquant quelle barre lui est incidente.\n",
      "\n",
      "On enl\u00e8ve de la matrice d'incidence les lignes correspondants aux deux pivots d'accroche car ils ne sont pas \u00e0 l'\u00e9quilibre (c'est une force d'accroche ext\u00e9rieure qui permet l'\u00e9quilibre)"
     ]
    },
    {
     "cell_type": "code",
     "collapsed": false,
     "input": [
      "piv_ind = range(N_piv)\n",
      "piv_ind.remove(iP_A)\n",
      "piv_ind.remove(iP_B)\n",
      "\n",
      "# Matrice d'incidence r\u00e9duite:\n",
      "Inc_mat_red = Inc_mat[piv_ind, :]\n",
      "print(str(Inc_mat_red).replace('0','.'))"
     ],
     "language": "python",
     "metadata": {},
     "outputs": [
      {
       "output_type": "stream",
       "stream": "stdout",
       "text": [
        "[[ 1  1  . -1 -1  .]\n",
        " [ .  .  1  1  . -1]\n",
        " [ .  .  .  .  1  1]]\n"
       ]
      }
     ],
     "prompt_number": 32
    },
    {
     "cell_type": "heading",
     "level": 4,
     "metadata": {},
     "source": [
      "Observation des \u00e9quations"
     ]
    },
    {
     "cell_type": "markdown",
     "metadata": {},
     "source": [
      "La matrice d'incidence r\u00e9duite contient 3 lignes correspondant aux 3 pivots auxquels on veut appliquer le principe de la statique.\n",
      "\n",
      "$$\\sum_j \\vec{F}(\\text{barre}_j\\rightarrow \\text{pivot}_i) = \\vec{0},\n",
      "\\quad \\text{pour chaque pivot $i$}$$\n",
      "\n",
      "Ce principe d'\u00e9quilibre va donner 2 \u00e9quations scalaires par pivot, soit 6 eq. au total.\n",
      "\n",
      "Comme on a 6 barres en traction/compression, on a bien 6 inconnues et le syst\u00e8me d'\u00e9quation devrait \u00eatre soluble : le syst\u00e8me m\u00e9canique est *isostatique* (\u00e0 moins que la position des pivots m\u00e8ne \u00e0 une matrice A de rang < 6)."
     ]
    },
    {
     "cell_type": "heading",
     "level": 4,
     "metadata": {},
     "source": [
      "Vecteur directeur des barres"
     ]
    },
    {
     "cell_type": "markdown",
     "metadata": {},
     "source": [
      "Pour projeter les \u00e9quations de la statique selon les axes (x,y), on a besoin du *vecteur directeur de chaque barre*."
     ]
    },
    {
     "cell_type": "code",
     "collapsed": false,
     "input": [
      "# Conversion des barres en trableau NumPy\n",
      "barres_arr = np.array(barres) # shape is (2N, 2, 2)\n",
      "\n",
      "# \"AB = OB - OA\":\n",
      "barre_dir = barres_arr[:,1,:] - barres_arr[:,0,:]\n",
      "# Longueur des barres:\n",
      "barre_l = np.sqrt((barre_dir**2).sum(axis = 1))\n",
      "# normalisation:\n",
      "barre_dir = barre_dir/barre_l.reshape(-1,1)\n",
      "\n",
      "barre_dir"
     ],
     "language": "python",
     "metadata": {},
     "outputs": [
      {
       "output_type": "pyout",
       "prompt_number": 176,
       "text": [
        "array([[ 1.        ,  0.        ],\n",
        "       [ 0.4472136 , -0.89442719],\n",
        "       [ 1.        ,  0.        ],\n",
        "       [ 0.4472136 ,  0.89442719],\n",
        "       [ 1.        ,  0.        ],\n",
        "       [ 0.4472136 , -0.89442719]])"
       ]
      }
     ],
     "prompt_number": 176
    },
    {
     "cell_type": "heading",
     "level": 4,
     "metadata": {},
     "source": [
      "Construction des matrices A et b"
     ]
    },
    {
     "cell_type": "code",
     "collapsed": false,
     "input": [
      "# 1) Matrice A\n",
      "Ax = Inc_mat_red*barre_dir[:,0]\n",
      "Ay = Inc_mat_red*barre_dir[:,1]\n",
      "# ou bien: Ax = np.dot(Inc_mat_red,np.diag(barre_dir[:,0]))\n",
      "A = np.vstack((Ax, Ay))\n",
      "# Image de la matrice:\n",
      "# plt.imshow(A, interpolation='nearest')\n",
      "\n",
      "print(np.round(A, 2))"
     ],
     "language": "python",
     "metadata": {},
     "outputs": [
      {
       "output_type": "stream",
       "stream": "stdout",
       "text": [
        "[[ 1.    0.45  0.   -0.45 -1.    0.  ]\n",
        " [ 0.    0.    1.    0.45  0.   -0.45]\n",
        " [ 0.    0.    0.    0.    1.    0.45]\n",
        " [ 0.   -0.89  0.   -0.89 -0.   -0.  ]\n",
        " [ 0.   -0.    0.    0.89  0.    0.89]\n",
        " [ 0.   -0.    0.    0.    0.   -0.89]]\n"
       ]
      }
     ],
     "prompt_number": 37
    },
    {
     "cell_type": "code",
     "collapsed": false,
     "input": [
      "# 2) Vecteur b : force ext\u00e9rieure appliqu\u00e9e \u00e0 chaque pivot:\n",
      "# Empilement des composantes selon x et y:\n",
      "b_ext = np.hstack((F_ext[piv_ind,0], F_ext[piv_ind,1]))\n",
      "b_ext"
     ],
     "language": "python",
     "metadata": {},
     "outputs": [
      {
       "output_type": "pyout",
       "prompt_number": 50,
       "text": [
        "array([ 0.,  0.,  0.,  0.,  0., -1.])"
       ]
      }
     ],
     "prompt_number": 50
    },
    {
     "cell_type": "markdown",
     "metadata": {},
     "source": [
      "---"
     ]
    },
    {
     "cell_type": "heading",
     "level": 2,
     "metadata": {},
     "source": [
      "C) R\u00e9solution du probl\u00e8me, pivot de Gauss"
     ]
    },
    {
     "cell_type": "heading",
     "level": 3,
     "metadata": {},
     "source": [
      "C1) Pivot de Gauss"
     ]
    },
    {
     "cell_type": "markdown",
     "metadata": {},
     "source": [
      "M\u00e9thode d'\u00e9limination it\u00e9rative pour r\u00e9soudre un syst\u00e8me d'\u00e9quations lin\u00e9aires.\n",
      "Cf Wikipedia pour le d\u00e9tail de la m\u00e9thode."
     ]
    },
    {
     "cell_type": "code",
     "collapsed": false,
     "input": [
      "# On assemble A et b (on \"borde\" la matrice)\n",
      "Ab = np.hstack((A,b_ext.reshape(-1,1))) # attention au reshape\n",
      "print(np.round(Ab,2))"
     ],
     "language": "python",
     "metadata": {},
     "outputs": [
      {
       "output_type": "stream",
       "stream": "stdout",
       "text": [
        "[[ 1.    0.45  0.   -0.45 -1.    0.    0.  ]\n",
        " [ 0.    0.    1.    0.45  0.   -0.45  0.  ]\n",
        " [ 0.    0.    0.    0.    1.    0.45  0.  ]\n",
        " [ 0.   -0.89  0.   -0.89 -0.   -0.    0.  ]\n",
        " [ 0.   -0.    0.    0.89  0.    0.89  0.  ]\n",
        " [ 0.   -0.    0.    0.    0.   -0.89 -1.  ]]\n"
       ]
      }
     ],
     "prompt_number": 178
    },
    {
     "cell_type": "code",
     "collapsed": false,
     "input": [
      "N = A.shape[0]\n",
      "\n",
      "for k in range(N):\n",
      "    # Trouver le pivot\n",
      "    piv_candidats = Ab[k:,k]\n",
      "    k_piv = np.argmax(np.abs(piv_candidats)) + k\n",
      "    piv = Ab[k_piv,k]\n",
      "    if piv == 0:\n",
      "        print(np.round(Ab,2))\n",
      "        raise ValueError('Systeme non inversible')\n",
      "    \n",
      "    # \u00e9change des lignes k et k_piv:\n",
      "    Ab[[k,k_piv], :] = Ab[[k_piv,k], :]\n",
      "    \n",
      "    # Normalisation de la ligne k\n",
      "    Ab[k,k:] /= piv\n",
      "    # Mise \u00e0 z\u00e9ros de la colonne k\n",
      "    for i in range(N):\n",
      "        if i == k:\n",
      "            continue\n",
      "        Ab[i,:] -= Ab[k,:]*Ab[i,k]\n",
      "\n",
      "print(np.round(Ab,2))"
     ],
     "language": "python",
     "metadata": {},
     "outputs": [
      {
       "output_type": "stream",
       "stream": "stdout",
       "text": [
        "[[ 1.    0.    0.    0.    0.    0.   -1.5 ]\n",
        " [ 0.    1.    0.    0.    0.    0.    1.12]\n",
        " [ 0.    0.    1.    0.    0.    0.    1.  ]\n",
        " [ 0.    0.    0.    1.    0.    0.   -1.12]\n",
        " [ 0.    0.    0.    0.    1.    0.   -0.5 ]\n",
        " [ 0.    0.    0.    0.    0.    1.    1.12]]\n"
       ]
      }
     ],
     "prompt_number": 101
    },
    {
     "cell_type": "markdown",
     "metadata": {},
     "source": [
      "Une fois la matrice transform\u00e9e en $(I_N|v)$ la solution du syst\u00e8me $Ax=b$ est le vecteur $v$"
     ]
    },
    {
     "cell_type": "code",
     "collapsed": false,
     "input": [
      "# Extraction du vecteur (colonne N+1) :\n",
      "trac_barres_gauss = Ab[:,N]\n",
      "trac_barres_gauss.round(2)"
     ],
     "language": "python",
     "metadata": {},
     "outputs": [
      {
       "output_type": "pyout",
       "prompt_number": 104,
       "text": [
        "array([-1.5 ,  1.12,  1.  , -1.12, -0.5 ,  1.12])"
       ]
      }
     ],
     "prompt_number": 104
    },
    {
     "cell_type": "heading",
     "level": 3,
     "metadata": {},
     "source": [
      "C2) R\u00e9solution avec numpy.linalg"
     ]
    },
    {
     "cell_type": "markdown",
     "metadata": {},
     "source": [
      "Au del\u00e0 de l'int\u00e9r\u00eat de comprendre l'algorithme du pivot de Gauss, il existe d\u00e9j\u00e0 une m\u00e9thode de r\u00e9solution de syst\u00e8me lin\u00e9aire : `numpy.linalg.linsolv`\n",
      "\n",
      "(fonction du sous-module `linalg` qui contient aussi l'inversion de matrices, la diagonalisation, la d\u00e9composition en valeurs singuli\u00e8res, ...) "
     ]
    },
    {
     "cell_type": "code",
     "collapsed": false,
     "input": [
      "np.linalg. # taper TAB"
     ],
     "language": "python",
     "metadata": {},
     "outputs": []
    },
    {
     "cell_type": "code",
     "collapsed": false,
     "input": [
      "# 3) R\u00e9solution:  Force de traction sur les barres\n",
      "trac_barres = np.linalg.solve(A,b_ext)\n",
      "\n",
      "print('Effort de traction sur chaque barre:')\n",
      "print(trac_barres.round(2))\n",
      "trac_max = np.max(np.abs(trac_barres))\n",
      "print(' -> effort max (en val. absolue) : {:.1f}'.format(trac_max))"
     ],
     "language": "python",
     "metadata": {},
     "outputs": [
      {
       "output_type": "stream",
       "stream": "stdout",
       "text": [
        "Effort de traction sur chaque barre:\n",
        "[-1.5   1.12  1.   -1.12 -0.5   1.12]\n",
        " -> effort max (en val. absolue) : 1.5\n"
       ]
      }
     ],
     "prompt_number": 40
    },
    {
     "cell_type": "code",
     "collapsed": false,
     "input": [
      "# Efforts sur les points d'accroche (de la part du treillis et de l'ext\u00e9rieur):\n",
      "resul_A = -np.inner(Inc_mat[iP_A,:]*trac_barres, barre_dir.T) + F_ext[iP_A]\n",
      "resul_B = -np.inner(Inc_mat[iP_B,:]*trac_barres, barre_dir.T) + F_ext[iP_B]\n",
      "\n",
      "print('action du treillis sur pt A: {!s} ({:.2f})'.format(\n",
      "      resul_A, np.linalg.norm(resul_A,2)) )\n",
      "print('action du treillis sur pt B: {!s} ({:.2f})'.format(\n",
      "      resul_B, np.linalg.norm(resul_B,2)) )"
     ],
     "language": "python",
     "metadata": {},
     "outputs": [
      {
       "output_type": "stream",
       "stream": "stdout",
       "text": [
        "action du treillis sur pt A: [-1.5  0. ] (1.50)\n",
        "action du treillis sur pt B: [ 1.5 -1. ] (1.80)\n"
       ]
      }
     ],
     "prompt_number": 42
    },
    {
     "cell_type": "markdown",
     "metadata": {},
     "source": [
      "---"
     ]
    },
    {
     "cell_type": "heading",
     "level": 2,
     "metadata": {},
     "source": [
      "D) Repr\u00e9sentation graphique de la solution"
     ]
    },
    {
     "cell_type": "markdown",
     "metadata": {},
     "source": [
      "Repr\u00e9sentation graphique des tractions/compression avec Matplotlib"
     ]
    },
    {
     "cell_type": "heading",
     "level": 3,
     "metadata": {},
     "source": [
      "D1) Colorer les barres selon l'effort (signe et intensit\u00e9)"
     ]
    },
    {
     "cell_type": "markdown",
     "metadata": {},
     "source": [
      "**Outil** : les colormaps de Matplotlib.\n",
      "\n",
      "Celles ci servent le plus souvent avec `imshow` pour coloriser des images en niveau de gris\n",
      "(ou simplement \"repr\u00e9senter\" les valeurs d'une matrice)"
     ]
    },
    {
     "cell_type": "code",
     "collapsed": false,
     "input": [
      "cmap = plt.cm.gray\n",
      "#cmap = plt.cm.winter\n",
      "#cmap = plt.cm.jet # couleurs par d\u00e9faut, comme dans Matlab\n",
      "plt.imshow(A, interpolation='none', cmap=cmap)\n",
      "plt.title('matrice A');"
     ],
     "language": "python",
     "metadata": {},
     "outputs": [
      {
       "output_type": "display_data",
       "png": "[encoded data removed]"
      }
     ],
     "prompt_number": 137
    },
    {
     "cell_type": "markdown",
     "metadata": {},
     "source": [
      "Les colormaps sont en fait des fonctions qui transforme un nombre entre [0,1] (un \"niveau de gris\")\n",
      "en un quadruplet (R,G,B, alpha) (chaque composante dans [0,1])"
     ]
    },
    {
     "cell_type": "code",
     "collapsed": false,
     "input": [
      "col = plt.cm.jet(0.9)\n",
      "col # On reconnait du rouge\n",
      "#plot(0,0, 'D', color=col)\n"
     ],
     "language": "python",
     "metadata": {},
     "outputs": [
      {
       "output_type": "pyout",
       "prompt_number": 151,
       "text": [
        "(0.94563279857397531, 0.029774872912127992, 0.0, 1.0)"
       ]
      }
     ],
     "prompt_number": 151
    },
    {
     "cell_type": "markdown",
     "metadata": {},
     "source": [
      "On peut fabriquer sa propre colormap les pr\u00e9existantes ne conviennent pas.\n",
      "(chercher \"colormaps demo\" pour avoir un aper\u00e7u)"
     ]
    },
    {
     "cell_type": "code",
     "collapsed": false,
     "input": [
      "# Colormap pour colorer les barres selon l'effort subit: rouge-bleu\n",
      "col_list = [(0.9,0,0.0), (0.7,0.7,0.7), (0,0,0.9)]\n",
      "cmap = mpl.colors.LinearSegmentedColormap.from_list('red-blue', col_list)"
     ],
     "language": "python",
     "metadata": {},
     "outputs": [],
     "prompt_number": 155
    },
    {
     "cell_type": "markdown",
     "metadata": {},
     "source": [
      "On peut utiliser une colormap pour attribuer une couleur \u00e0 une force $F$\n",
      "\n",
      "$$cmap(\\frac{F}{2 F_{max}} + 1/2) $$"
     ]
    },
    {
     "cell_type": "code",
     "collapsed": false,
     "input": [
      "# Trac\u00e9 des barres et des efforts\n",
      "for j, bj in enumerate(barres):\n",
      "    # Coordonn\u00e9es des 2 pivots d'accroche:\n",
      "    (x1,y1), (x2, y2) = bj\n",
      "    # direction :\n",
      "    uj = barre_dir[j]\n",
      "    # effort de traction sur la barre bj:\n",
      "    trac = trac_barres[j]\n",
      "    color = cmap(trac/(2*trac_max)+0.5)\n",
      "    plt.plot((x1, x2), (y1, y2), '-', color = color, lw=4, zorder=1)\n",
      "\n",
      "\n",
      "# Trac\u00e9s des pivots :\n",
      "for piv in pivots:\n",
      "    plt.plot(piv[0], piv[1], 'wo')\n",
      "\n",
      "# Ajustements des limites :\n",
      "xlim(-.5, 4.5)\n",
      "ylim(-.5, 2.5);"
     ],
     "language": "python",
     "metadata": {},
     "outputs": [
      {
       "output_type": "pyout",
       "prompt_number": 157,
       "text": [
        "(-0.5, 2.5)"
       ]
      },
      {
       "output_type": "display_data",
       "png": "[encoded data removed]"
      }
     ],
     "prompt_number": 157
    },
    {
     "cell_type": "heading",
     "level": 3,
     "metadata": {},
     "source": [
      "D2) Repr\u00e9senter les forces... avec des fl\u00e8ches !"
     ]
    },
    {
     "cell_type": "code",
     "collapsed": false,
     "input": [
      "color=(0.8, 0.8, 0.8)\n",
      "# \u00c9chelle pour le trac\u00e9 des forces\n",
      "F_scale = 0.3*barre_l.mean()/trac_max\n",
      "# Couleur des efforts:\n",
      "F_color = (1., 0, 0) # rouge\n",
      "dx, dy  = 1,2\n",
      "\n",
      "# Trac\u00e9 des barres et des efforts\n",
      "for j, bj in enumerate(barres):\n",
      "    # Coordonn\u00e9es des 2 pivots d'accroche:\n",
      "    (x1,y1), (x2, y2) = bj\n",
      "    # direction :\n",
      "    uj = barre_dir[j]\n",
      "    trac = trac_barres[j]\n",
      "    \n",
      "    plt.plot((x1, x2), (y1, y2), '-', color = color, lw=4, zorder=1)\n",
      "    \n",
      "    # Trac\u00e9 des efforts barre -> pivot1 et pivot 2\n",
      "    plt.arrow(x1, y1, +trac*uj[0]*F_scale, +trac*uj[1]*F_scale,\n",
      "              zorder=2, head_width=0.05*dx, lw=0, width=0.02*dx, color=F_color)\n",
      "    plt.arrow(x2, y2, -trac*uj[0]*F_scale, -trac*uj[1]*F_scale,\n",
      "              zorder=2, head_width=0.05*dx, lw=0, width=0.02*dx, color=F_color)\n",
      "\n",
      "# Trac\u00e9s des pivots :\n",
      "for piv in pivots:\n",
      "    plt.plot(piv[0], piv[1], 'wo', zorder=3)\n",
      "\n",
      "# Ajustements des limites :\n",
      "xlim(-.5, 4.5)\n",
      "ylim(-.5, 2.5)\n",
      "\n",
      "title(u'Forces exerc\u00e9es par les barres sur les liasons')"
     ],
     "language": "python",
     "metadata": {},
     "outputs": [
      {
       "output_type": "display_data",
       "png": "[encoded data removed]"
      }
     ],
     "prompt_number": 172
    },
    {
     "cell_type": "markdown",
     "metadata": {},
     "source": [
      "Remarque : on utilise l'argument `zorder` pour ma\u00eetriser la superposition des \u00e9l\u00e9ments"
     ]
    },
    {
     "cell_type": "heading",
     "level": 3,
     "metadata": {},
     "source": [
      "D3) Le code complet de visualisation des efforts :"
     ]
    },
    {
     "cell_type": "code",
     "collapsed": false,
     "input": [
      "fig = plt.figure('efforts treillis', figsize=(12,5))\n",
      "\n",
      "ax = fig.add_subplot(111, title='efforts sur le treillis '\n",
      "                                '({:d} pivots, {:d} barres)'.format(N_piv, N_bar))\n",
      "\n",
      "# \u00c9chelle pour le trac\u00e9 des forces\n",
      "F_scale = 0.3*barre_l.mean()/trac_max\n",
      "# Couleur des efforts:\n",
      "F_color = (0,0.8,0) # vert\n",
      "dx, dy  = 1,2\n",
      "\n",
      "# Colormap pour colorer les barres selon l'effort subit: rouge-bleu\n",
      "col_list = [(0.9,0,0.0), (0.7,0.7,0.7), (0,0,0.9)]\n",
      "cm_rb = mpl.colors.LinearSegmentedColormap.from_list('red-blue', col_list)\n",
      "cm = cm_rb\n",
      "#cm = plt.cm.coolwarm_r\n",
      "\n",
      "# Trac\u00e9 des barres et des efforts\n",
      "for j, bj in enumerate(barres):\n",
      "    # Coordonn\u00e9es des 2 pivots d'accroche:\n",
      "    (x1,y1), (x2, y2) = bj\n",
      "    # direction :\n",
      "    uj = barre_dir[j]\n",
      "    # effort de traction sur la barre bj:\n",
      "    trac = trac_barres[j]\n",
      "    color = cm(trac/(2*trac_max)+0.5)\n",
      "    plt.plot((x1, x2), (y1, y2), '-', color = color, lw=4, zorder=1)\n",
      "    \n",
      "    # Trac\u00e9 des efforts barre -> pivot1 et pivot 2\n",
      "    plt.arrow(x1, y1, +trac*uj[0]*F_scale, +trac*uj[1]*F_scale,\n",
      "              zorder=2, head_width=0.05*dx, lw=0, width=0.02*dx, color=F_color)\n",
      "    plt.arrow(x2, y2, -trac*uj[0]*F_scale, -trac*uj[1]*F_scale,\n",
      "              zorder=2, head_width=0.05*dx, lw=0, width=0.02*dx, color=F_color)\n",
      "# end for each barre\n",
      "\n",
      "# Couleur des pivots\n",
      "piv_color = (1.,1.,1.) # blanc\n",
      "piv_color_AB = (1.,1.,0.5) # jaune clair\n",
      "piv_alpha = 1 # opaque\n",
      "\n",
      "\n",
      "# Trac\u00e9 des pivots\n",
      "for i, Pi in enumerate(pivots):\n",
      "    # Trac\u00e9 du pivot:\n",
      "    marker = 'D' if Pi in (P_A,P_B) else 'o' # marqueur Diamond 'D' ou disque 'o'\n",
      "    color = piv_color_AB if Pi in (P_A,P_B) else piv_color\n",
      "    plt.plot(Pi[0], Pi[1], marker, ms=8, c=color, alpha = piv_alpha, zorder=3)\n",
      "    # Force ext\u00e9rieur s'appliquant sur le pivot\n",
      "    Fi = F_ext[i]\n",
      "    if Fi.any():\n",
      "        plt.arrow(Pi[0], Pi[1], Fi[0]*F_scale, Fi[1]*F_scale,\n",
      "                  zorder=2, head_width=0.05*dx, lw=0, width=0.02*dx, color=(1,0,0))\n",
      "    if Pi in (P_A,P_B):\n",
      "        F_soutien = -resul_A if Pi==P_A else -resul_B\n",
      "        plt.arrow(Pi[0], Pi[1], F_soutien[0]*F_scale, F_soutien[1]*F_scale,\n",
      "                  zorder=2, head_width=0.05*dx, lw=0, width=0.02*dx, color=(1,1,0))\n",
      "# end for each pivot\n",
      "\n",
      "# Limites du trac\u00e9\n",
      "plt.xlim(min([x for (x,y) in pivots]) - dx*1,\n",
      "         max([x for (x,y) in pivots]) + dx*1)\n",
      "plt.ylim(min([y for (x,y) in pivots]) - dy*.3,\n",
      "         max([y for (x,y) in pivots]) + dy*.3)\n",
      "\n",
      "# Couleur de fond:\n",
      "ax.patch.set_fc((0.9,)*3)\n",
      "ax.set_aspect('equal')\n",
      "plt.grid(False)\n",
      "\n",
      "# \"Maximisation\" du graphique au sein de la figure :\n",
      "fig.tight_layout()"
     ],
     "language": "python",
     "metadata": {},
     "outputs": [
      {
       "output_type": "display_data",
       "png": "[encoded data removed]"
      }
     ],
     "prompt_number": 118
    },
    {
     "cell_type": "markdown",
     "metadata": {},
     "source": [
      "---\n",
      "\n",
      "*fin de la session 3*\n",
      "\n",
      "<a rel=\"license\" href=\"http://creativecommons.org/licenses/by/3.0/fr/\">\n",
      "    <img alt=\"Licence Creative Commons\" style=\"border-width:0\" src=\"http://i.creativecommons.org/l/by/3.0/fr/88x31.png\" />\n",
      "</a>\n",
      "\n",
      "Ce <span xmlns:dct=\"http://purl.org/dc/terms/\" href=\"http://purl.org/dc/dcmitype/InteractiveResource\" rel=\"dct:type\">support de formation</span> cr\u00e9\u00e9 par\n",
      "<span xmlns:cc=\"http://creativecommons.org/ns#\" property=\"cc:attributionName\">Pierre Haessig</span>\n",
      "est mis \u00e0 disposition selon les termes de la\n",
      "<a rel=\"license\" href=\"http://creativecommons.org/licenses/by/3.0/fr/\">licence Creative Commons Attribution 3.0 France</a>."
     ]
    }
   ],
   "metadata": {}
  }
 ]
}
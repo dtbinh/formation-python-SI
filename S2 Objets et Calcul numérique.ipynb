{
 "metadata": {
  "name": "S2 Objets et Calcul num\u00e9rique"
 },
 "nbformat": 3,
 "nbformat_minor": 0,
 "worksheets": [
  {
   "cells": [
    {
     "cell_type": "heading",
     "level": 1,
     "metadata": {},
     "source": [
      "S\u00e9ance 2 :  Objets et Calcul num\u00e9rique"
     ]
    },
    {
     "cell_type": "markdown",
     "metadata": {},
     "source": [
      "<img src='http://www.bretagne.ens-cachan.fr/images/kerlann/logo_accueil.png'>\n",
      "<strong>Formation Python du <a href='http://www.mecatronique.bretagne.ens-cachan.fr/'>d\u00e9partement M\u00e9catronique</a></strong>"
     ]
    },
    {
     "cell_type": "markdown",
     "metadata": {},
     "source": [
      "11h00 - 12h30\n",
      "\n",
      "Pr\u00e9sentation de l'\u00e9cosyst\u00e8me Python\u00a0: environnement de d\u00e9veloppement, notion de module.\n",
      "\n",
      "*Python orient\u00e9 objet\u00a0:*\n",
      "\n",
      "* Introduction rapide aux objets avec l'exemple d'une classe \u00ab\u00a0Torseur\u00a0\u00bb.\n",
      "* M\u00e9thodes et surcharges d'op\u00e9rateurs.\n",
      "\n",
      "*Python num\u00e9rique\u00a0:*\n",
      "\n",
      "* Calcul num\u00e9rique avec la biblioth\u00e8que NumPy. Alg\u00e8bre lin\u00e9aire de base.\n",
      "* Lecture d'un fichier de donn\u00e9es exp\u00e9rimentales (fichier texte type CSV)\n",
      "* trac\u00e9 de graphiques avec Matplotlib (exemple\u00a0: diagramme de Bode)"
     ]
    },
    {
     "cell_type": "heading",
     "level": 2,
     "metadata": {},
     "source": [
      "A) Python Orient\u00e9 Objet, par l'exemple"
     ]
    },
    {
     "cell_type": "markdown",
     "metadata": {},
     "source": [
      "Exemple de la cr\u00e9ation d'une Classe \"Torseur2D\", inspir\u00e9 de la m\u00e9canique du solide.\n",
      "\n",
      "Il existent d'autres tutoriels plus complets sur les objets en Python tel que http://docs.python.org/2/tutorial/classes.html#a-first-look-at-classes.\n",
      "\n",
      "\n",
      "### Cahier des charges de la Classe :\n",
      "\n",
      "L'objet math\u00e9matique Torseur peut se caract\u00e9riser par 3 param\u00e8tres :\n",
      "\n",
      "* une *r\u00e9sultante* (dim 2),\n",
      "* et un *moment* (dim 1)...\n",
      "* ...exprim\u00e9 en un *point* (dim 2).\n",
      "\n",
      "Pour manipuler ce type d'objet en Python, on cr\u00e9e donc une classe poss\u00e9dant ces trois champs.\n",
      "\n",
      "Dans un second temps, on va voir comment permettre l'addition des objets Torseur2D."
     ]
    },
    {
     "cell_type": "heading",
     "level": 3,
     "metadata": {},
     "source": [
      "A1) Construction de la classe, \u00e9tape par \u00e9tape"
     ]
    },
    {
     "cell_type": "markdown",
     "metadata": {},
     "source": [
      "Une classe se d\u00e9finit par le mot-cl\u00e9 `class` suivit du nom de la classe.\n",
      "\n",
      "On commence par une d\u00e9finition minimale qui inclue la *m\u00e9thode* `__init__` qui sert \u00e0 initialiser l'objet :"
     ]
    },
    {
     "cell_type": "code",
     "collapsed": false,
     "input": [
      "class Torseur2D(object):\n",
      "    def __init__(self, resul, mom_ref, ref):\n",
      "        '''torseur de r\u00e9sultante `resul` et de moment `mom_ref`\n",
      "        exprim\u00e9 au point de coordonn\u00e9es `ref`.\n",
      "        '''\n",
      "        # R\u00e9sultante\n",
      "        self.resul = resul\n",
      "        # Moment exprim\u00e9 en ref\n",
      "        self.mom_ref = mom_ref\n",
      "        # Point de r\u00e9f\u00e9rence\n",
      "        self.ref = ref\n",
      "        \n",
      "        print(\"Initialisation d'un Torseur\")\n",
      "    # end __init__()\n",
      "\n",
      "# Cr\u00e9ation (\"Instanciation\") d'un torseur\n",
      "T1 = Torseur2D((2,3), 1., (0,0))\n",
      "T1.mom_ref\n",
      "T1.ref\n",
      "T1.resul"
     ],
     "language": "python",
     "metadata": {},
     "outputs": [
      {
       "output_type": "stream",
       "stream": "stdout",
       "text": [
        "Initialisation d'un Torseur\n"
       ]
      },
      {
       "output_type": "pyout",
       "prompt_number": 9,
       "text": [
        "(2, 3)"
       ]
      }
     ],
     "prompt_number": 9
    },
    {
     "cell_type": "markdown",
     "metadata": {},
     "source": [
      "Remarquons que la Docstring de init sert \u00e0 documnter la cr\u00e9ation de la classe :"
     ]
    },
    {
     "cell_type": "code",
     "collapsed": false,
     "input": [
      "Torseur2D?"
     ],
     "language": "python",
     "metadata": {},
     "outputs": []
    },
    {
     "cell_type": "markdown",
     "metadata": {},
     "source": [
      "Toutes les attributs d'un objet sont accessibles en lecture et en \u00e9criture :"
     ]
    },
    {
     "cell_type": "code",
     "collapsed": false,
     "input": [
      "T1.resul = [4, 5]\n",
      "T1.resul"
     ],
     "language": "python",
     "metadata": {},
     "outputs": [
      {
       "output_type": "pyout",
       "prompt_number": 12,
       "text": [
        "[4, 5]"
       ]
      }
     ],
     "prompt_number": 12
    },
    {
     "cell_type": "markdown",
     "metadata": {},
     "source": [
      "Remarque : Par d\u00e9faut, aucune v\u00e9rification de la valeur assign\u00e9e n'est effectu\u00e9e, mais des v\u00e9rifications sont facilement impl\u00e9mentables (notion de *getter* et *setter*)"
     ]
    },
    {
     "cell_type": "heading",
     "level": 4,
     "metadata": {},
     "source": [
      "Formule du \"Changement de Point\""
     ]
    },
    {
     "cell_type": "markdown",
     "metadata": {},
     "source": [
      "Une des formules essentielle pour travailler avec les torseurs est de calculer le moment en n'impore quel point (\"formule de changement de point\")\n",
      "\n",
      "On ajoute donc une nouvelle *m\u00e9thode* qui impl\u00e9mente de le changement de point :\n",
      "\n",
      "$$\\vec{M}(X) = \\vec{M}(O) + \\vec{R} \\times \\vec{OX} $$\n",
      "\n",
      "avec $\\vec{R}$ la r\u00e9sultante du torseur et $O$ le point de r\u00e9f\u00e9rence initial."
     ]
    },
    {
     "cell_type": "code",
     "collapsed": false,
     "input": [
      "# m\u00e9thode \u00e0 ajouter dans la d\u00e9finition de la classe Torseur2D\n",
      "def calc_mom(self, pt):\n",
      "    '''calcule le moment du torseur en un point `pt` quelconque'''\n",
      "    # Formule du changement de point: M(X) = M(O) + R^OX\n",
      "    # 1) Vecteur d\u00e9placement OX = X-O:\n",
      "    delta_ref = (pt[0] - self.ref[0],\n",
      "                 pt[1] - self.ref[1])\n",
      "    # 2) Produit vectoriel R^OX\n",
      "    delta_mom = self.resul[0]*delta_ref[1] - self.resul[1]*delta_ref[0]\n",
      "    # 3) Nouveau moment:\n",
      "    mom = self.mom_ref + delta_mom\n",
      "    return mom\n",
      "# end calc_mom()"
     ],
     "language": "python",
     "metadata": {},
     "outputs": []
    },
    {
     "cell_type": "markdown",
     "metadata": {},
     "source": [
      "Souvent, les m\u00e9thodes servent \u00e0 **changer l'\u00e9tat de l'objet**. Ici, on propose par exemple de changer le point de r\u00e9f\u00e9rence (ce qui recalcule le moment au point de r\u00e9f\u00e9rence)"
     ]
    },
    {
     "cell_type": "code",
     "collapsed": false,
     "input": [
      "# m\u00e9thode \u00e0 ajouter dans la d\u00e9finition de la classe Torseur2D\n",
      "def set_ref(self, new_ref):\n",
      "    '''change le point de r\u00e9f\u00e9rence'''\n",
      "    # 1) Calcul du moment au nouveau point de r\u00e9f\u00e9rence\n",
      "    self.mom_ref = self.calc_mom(new_ref)\n",
      "    # 2) Mise \u00e0 jour du point de r\u00e9f\u00e9rence\n",
      "    self.ref = new_ref\n",
      "# end set_ref()"
     ],
     "language": "python",
     "metadata": {},
     "outputs": []
    },
    {
     "cell_type": "heading",
     "level": 4,
     "metadata": {},
     "source": [
      "M\u00e9thodes supl\u00e9mentaires"
     ]
    },
    {
     "cell_type": "markdown",
     "metadata": {},
     "source": [
      "On peut obtenir une belle repr\u00e9sentation textuelle en r\u00e9impl\u00e9mentant la m\u00e9thode sp\u00e9ciale `__str__` (celle-ci est appel\u00e9e par str(mon_torseur))"
     ]
    },
    {
     "cell_type": "code",
     "collapsed": false,
     "input": [
      "def __str__(self):\n",
      "    res = 'Torseur 2D '\n",
      "    res += 'de R\u00e9sultante {0} et de Moment {1}'.format(str(self.resul),\n",
      "                                                        str(self.mom_ref))\n",
      "    res += ' exprim\u00e9 au point {0}'.format(str(self.ref))\n",
      "    \n",
      "    return res.encode('utf-8')\n",
      "# end __str__"
     ],
     "language": "python",
     "metadata": {},
     "outputs": []
    },
    {
     "cell_type": "markdown",
     "metadata": {},
     "source": [
      "Pour pouvoir additionner/soustraire des torseurs, il faut r\u00e9impl\u00e9menter les m\u00e9thodes correspondants \u00e0 ces op\u00e9rations :\n",
      "\n",
      "* `__add__` pour a + b\n",
      "* `__neg__` pour -a\n",
      "* `__sub__` pour a-b\n",
      "\n",
      "(cf. Emulating numeric types http://docs.python.org/2/reference/datamodel.html#emulating-numeric-types)"
     ]
    },
    {
     "cell_type": "code",
     "collapsed": false,
     "input": [
      "### Op\u00e9ration arithm\u00e9tiques\n",
      "def __add__(self, other):\n",
      "    '''addition de 2 torseurs: T1 + T2\n",
      "    Le pt de r\u00e9f\u00e9rence utilis\u00e9 est celui de T1 (op\u00e9rande gauche)\n",
      "    '''\n",
      "    # 1) addition des R\u00e9sultantes:\n",
      "    resul = (self.resul[0] + other.resul[0],\n",
      "             self.resul[1] + other.resul[1])\n",
      "    # 2) addition des moments au point de r\u00e9f\u00e9rence de self:\n",
      "    mom_ref = self.mom_ref\n",
      "    other_mom = other.calc_mom(self.ref)\n",
      "    mom_ref = mom_ref + other_mom\n",
      "    # 3) Cr\u00e9ation de l'objet Torseur:\n",
      "    T = Torseur2D(resul, mom_ref, self.ref)\n",
      "    return T\n",
      "# end __add__\n",
      "\n",
      "def __neg__(self):\n",
      "    '''oppos\u00e9 du torseur'''\n",
      "    resul = (-self.resul[0], -self.resul[1])\n",
      "    mom_ref = -self.mom_ref\n",
      "    T = Torseur2D(resul, mom_ref, self.ref)\n",
      "    return T\n",
      "# end __neg__\n",
      "\n",
      "def __sub__(self, other):\n",
      "    '''soustraction de 2 torseurs: T1-T2'''\n",
      "    return self + (-other)"
     ],
     "language": "python",
     "metadata": {},
     "outputs": []
    },
    {
     "cell_type": "heading",
     "level": 3,
     "metadata": {},
     "source": [
      "D\u00e9finition compl\u00e8te de la classe Torseur2D"
     ]
    },
    {
     "cell_type": "code",
     "collapsed": false,
     "input": [
      "class Torseur2D(object):\n",
      "    def __init__(self, resul, mom_ref, ref):\n",
      "        '''torseur de r\u00e9sultante `resul` et de moment `mom_ref`\n",
      "        exprim\u00e9 au point de coordonn\u00e9es `ref`.\n",
      "        '''\n",
      "        # R\u00e9sultante\n",
      "        self.resul = resul\n",
      "        # Moment exprim\u00e9 en ref\n",
      "        self.mom_ref = mom_ref\n",
      "        # Point de r\u00e9f\u00e9rence\n",
      "        self.ref = ref        \n",
      "        print(\"[Initialisation d'un nouveau Torseur]\")\n",
      "        #print(self)\n",
      "    # end __init__()\n",
      "    \n",
      "    def calc_mom(self, pt):\n",
      "        '''calcule le moment du torseur en un point `pt` quelconque'''\n",
      "        # Formule du changement de point: M(X) = M(O) + R^OX\n",
      "        # 1) Vecteur d\u00e9placement OX = X-O:\n",
      "        delta_ref = (pt[0] - self.ref[0],\n",
      "                     pt[1] - self.ref[1])\n",
      "        # 2) Produit vectoriel R^OX\n",
      "        delta_mom = self.resul[0]*delta_ref[1] - self.resul[1]*delta_ref[0]\n",
      "        # 3) Nouveau moment:\n",
      "        mom = self.mom_ref + delta_mom\n",
      "        return mom\n",
      "    # end calc_mom()\n",
      "\n",
      "    def set_ref(self, new_ref):\n",
      "        '''change le point de r\u00e9f\u00e9rence'''\n",
      "        # 1) Calcul du moment au nouveau point de r\u00e9f\u00e9rence\n",
      "        self.mom_ref = self.calc_mom(new_ref)\n",
      "        # 2) Mise \u00e0 jour du point de r\u00e9f\u00e9rence\n",
      "        self.ref = new_ref\n",
      "    # end set_ref()\n",
      "\n",
      "    def __str__(self):\n",
      "        res = u'Torseur 2D '\n",
      "        res += u'de R\u00e9sultante {0} et de Moment {1}'.format(str(self.resul),\n",
      "                                                            str(self.mom_ref))\n",
      "        res += u' exprim\u00e9 au point {0}'.format(str(self.ref))\n",
      "        \n",
      "        return res.encode('utf-8')\n",
      "    # end __str__\n",
      "    \n",
      "    ### Op\u00e9ration arithm\u00e9tiques\n",
      "    def __add__(self, other):\n",
      "        '''addition de 2 torseurs: T1 + T2\n",
      "        Le pt de r\u00e9f\u00e9rence utilis\u00e9 est celui de T1 (op\u00e9rande gauche)\n",
      "        '''\n",
      "        # 1) addition des R\u00e9sultantes:\n",
      "        resul = (self.resul[0] + other.resul[0],\n",
      "                 self.resul[1] + other.resul[1])\n",
      "        # 2) addition des moments au point de r\u00e9f\u00e9rence de self:\n",
      "        mom_ref = self.mom_ref\n",
      "        other_mom = other.calc_mom(self.ref)\n",
      "        mom_ref = mom_ref + other_mom\n",
      "        # 3) Cr\u00e9ation de l'objet Torseur:\n",
      "        T = Torseur2D(resul, mom_ref, self.ref)\n",
      "        return T\n",
      "    # end __add__\n",
      "    \n",
      "    def __neg__(self):\n",
      "        '''oppos\u00e9 du torseur'''\n",
      "        resul = (-self.resul[0], -self.resul[1])\n",
      "        mom_ref = -self.mom_ref\n",
      "        T = Torseur2D(resul, mom_ref, self.ref)\n",
      "        return T\n",
      "    # end __neg__\n",
      "    \n",
      "    def __sub__(self, other):\n",
      "        '''soustraction de 2 torseurs: T1-T2'''\n",
      "        return self + (-other)"
     ],
     "language": "python",
     "metadata": {},
     "outputs": [],
     "prompt_number": 30
    },
    {
     "cell_type": "markdown",
     "metadata": {},
     "source": [
      "Initialisation de 3 torseurs :"
     ]
    },
    {
     "cell_type": "code",
     "collapsed": false,
     "input": [
      "T1 = Torseur2D((1,1),  0, (0,0))\n",
      "T2 = Torseur2D((1,1),  1, (0,0))\n",
      "T3 = Torseur2D((1,1), -1, (0,0))\n",
      "print(T3)"
     ],
     "language": "python",
     "metadata": {},
     "outputs": [
      {
       "output_type": "stream",
       "stream": "stdout",
       "text": [
        "[Initialisation d'un nouveau Torseur]\n",
        "[Initialisation d'un nouveau Torseur]\n",
        "[Initialisation d'un nouveau Torseur]\n",
        "Torseur 2D de R\u00e9sultante (1, 1) et de Moment -1 exprim\u00e9 au point (0, 0)\n"
       ]
      }
     ],
     "prompt_number": 40
    },
    {
     "cell_type": "markdown",
     "metadata": {},
     "source": [
      "Quelques op\u00e9rations de d\u00e9monstration :"
     ]
    },
    {
     "cell_type": "code",
     "collapsed": false,
     "input": [
      "# Changer le point de r\u00e9f\u00e9rence :\n",
      "T3.set_ref((-1,0))\n",
      "print(T3)"
     ],
     "language": "python",
     "metadata": {},
     "outputs": [
      {
       "output_type": "stream",
       "stream": "stdout",
       "text": [
        "Torseur 2D de R\u00e9sultante (1, 1) et de Moment 0 exprim\u00e9 au point (-1, 0)\n"
       ]
      }
     ],
     "prompt_number": 41
    },
    {
     "cell_type": "code",
     "collapsed": false,
     "input": [
      "print(-T1)"
     ],
     "language": "python",
     "metadata": {},
     "outputs": [
      {
       "output_type": "stream",
       "stream": "stdout",
       "text": [
        "[Initialisation d'un nouveau Torseur]\n",
        "Torseur 2D de R\u00e9sultante (-1, -1) et de Moment 0 exprim\u00e9 au point (0, 0)\n"
       ]
      }
     ],
     "prompt_number": 42
    },
    {
     "cell_type": "code",
     "collapsed": false,
     "input": [
      "print(T1+T2) # torseurs d\u00e9j\u00e0 exprim\u00e9s au m\u00eame pt"
     ],
     "language": "python",
     "metadata": {},
     "outputs": [
      {
       "output_type": "stream",
       "stream": "stdout",
       "text": [
        "[Initialisation d'un nouveau Torseur]\n",
        "Torseur 2D de R\u00e9sultante (2, 2) et de Moment 1 exprim\u00e9 au point (0, 0)\n"
       ]
      }
     ],
     "prompt_number": 43
    },
    {
     "cell_type": "code",
     "collapsed": false,
     "input": [
      "print(T1+T3) # torseurs exprim\u00e9s en des pts diff\u00e9rents"
     ],
     "language": "python",
     "metadata": {},
     "outputs": [
      {
       "output_type": "stream",
       "stream": "stdout",
       "text": [
        "[Initialisation d'un nouveau Torseur]\n",
        "Torseur 2D de R\u00e9sultante (2, 2) et de Moment -1 exprim\u00e9 au point (0, 0)\n"
       ]
      }
     ],
     "prompt_number": 44
    },
    {
     "cell_type": "markdown",
     "metadata": {},
     "source": [
      "Pour compl\u00e9ter cette classe Torseur2D, on pourrait impl\u00e9menter les op\u00e9rations de comparaisons (== et !=) : http://docs.python.org/2/reference/datamodel.html#object.\\__eq\\__\n",
      "\n",
      "---"
     ]
    },
    {
     "cell_type": "heading",
     "level": 2,
     "metadata": {},
     "source": [
      "B) Python num\u00e9rique avec NumPy"
     ]
    },
    {
     "cell_type": "heading",
     "level": 3,
     "metadata": {},
     "source": [
      "B1) Pourquoi un module particulier (NumPy) ?"
     ]
    },
    {
     "cell_type": "markdown",
     "metadata": {},
     "source": [
      "Pour le calcul scientifique, on est souvent amen\u00e9 \u00e0 manipuler de *grands ensembles de nombres*.\n",
      "\n",
      "Par exemple, calculons la racine des entiers de 1 \u00e0 10 millions :"
     ]
    },
    {
     "cell_type": "code",
     "collapsed": false,
     "input": [
      "N = 10**7\n",
      "l = range(N)\n",
      "import math # racine carr\u00e9 se trouve dans le module math\n",
      "s = []\n",
      "\n",
      "for i in l: # calcul des racines, une apr\u00e8s l'autre\n",
      "    s.append(math.sqrt(i))\n",
      "\n",
      "print(type(s))\n",
      "print(s[-1])"
     ],
     "language": "python",
     "metadata": {},
     "outputs": [
      {
       "output_type": "stream",
       "stream": "stdout",
       "text": [
        "<type 'list'>\n",
        "3162.27750205\n"
       ]
      }
     ],
     "prompt_number": 1
    },
    {
     "cell_type": "markdown",
     "metadata": {},
     "source": [
      "Remarquons que ce calcul dure *quelques secondes*... \n",
      "\n",
      "Pour r\u00e9aliser les calculs num\u00e9riques efficacement, on utilise le module *NumPy*"
     ]
    },
    {
     "cell_type": "code",
     "collapsed": false,
     "input": [
      "import numpy as np\n",
      "\n",
      "l = np.arange(N) # l n'est plus une liste mais un tableau NumPy\n",
      "s = np.sqrt(l) # calcul toutes les racines \"en une fois\"\n",
      "\n",
      "print(type(s))\n",
      "print(s[-1])"
     ],
     "language": "python",
     "metadata": {},
     "outputs": [
      {
       "output_type": "stream",
       "stream": "stdout",
       "text": [
        "<type 'numpy.ndarray'>\n",
        "3162.27750205\n"
       ]
      }
     ],
     "prompt_number": 3
    },
    {
     "cell_type": "heading",
     "level": 3,
     "metadata": {},
     "source": [
      "B2) Fonctions de bases de NumPy, alg\u00e8bre lin\u00e9aire"
     ]
    },
    {
     "cell_type": "markdown",
     "metadata": {},
     "source": [
      "R\u00e9f\u00e9rence : http://python-prepa.github.io/edp_chaleur.html#introduction-rapide-a-numpy"
     ]
    },
    {
     "cell_type": "code",
     "collapsed": false,
     "input": [
      "# L'\u00e9quivalent de `range` :\n",
      "np.arange(10)"
     ],
     "language": "python",
     "metadata": {},
     "outputs": [
      {
       "output_type": "pyout",
       "prompt_number": 19,
       "text": [
        "array([0, 1, 2, 3, 4, 5, 6, 7, 8, 9])"
       ]
      }
     ],
     "prompt_number": 19
    },
    {
     "cell_type": "code",
     "collapsed": false,
     "input": [
      "print(np.zeros(5))\n",
      "print(np.ones(5))\n",
      "print(np.array([1, 2.5, 6.5]))"
     ],
     "language": "python",
     "metadata": {},
     "outputs": [
      {
       "output_type": "stream",
       "stream": "stdout",
       "text": [
        "[ 0.  0.  0.  0.  0.]\n",
        "[ 1.  1.  1.  1.  1.]\n",
        "[ 1.   2.5  6.5]\n"
       ]
      }
     ],
     "prompt_number": 24
    },
    {
     "cell_type": "markdown",
     "metadata": {},
     "source": [
      "Les tableaux NumPy contiennent des types de donn\u00e9es homog\u00e8nes :"
     ]
    },
    {
     "cell_type": "code",
     "collapsed": false,
     "input": [
      "print(np.array([1, 2, 3]).dtype) # tableau d'entier\n",
      "print(np.array([1., 2., 3.]).dtype) # tableau de flottants"
     ],
     "language": "python",
     "metadata": {},
     "outputs": [
      {
       "output_type": "stream",
       "stream": "stdout",
       "text": [
        "int64\n",
        "float64\n"
       ]
      }
     ],
     "prompt_number": 28
    },
    {
     "cell_type": "code",
     "collapsed": false,
     "input": [
      "np.array([1, 2, 3])/2"
     ],
     "language": "python",
     "metadata": {},
     "outputs": [
      {
       "output_type": "pyout",
       "prompt_number": 30,
       "text": [
        "array([0, 1, 1])"
       ]
      }
     ],
     "prompt_number": 30
    },
    {
     "cell_type": "heading",
     "level": 3,
     "metadata": {},
     "source": [
      "B3) Lecture/\u00e9criture de fichier de donn\u00e9es"
     ]
    },
    {
     "cell_type": "markdown",
     "metadata": {},
     "source": [
      "Pour les fichiers texte du type CSV (nombres s\u00e9par\u00e9s par des virgules, ou autres), NumPy fournit des fonctions de lecture.\n",
      "\n",
      "La fonction `np.loadtxt`, assez flexible, permet de lire des fichiers avec diff\u00e9rents formats. Cependant, cette flexibilit\u00e9 aboutit \u00e0 une *signature* assez charg\u00e9e"
     ]
    },
    {
     "cell_type": "code",
     "collapsed": false,
     "input": [
      "# Consultons l'aide:\n",
      "np.loadtxt?"
     ],
     "language": "python",
     "metadata": {},
     "outputs": [],
     "prompt_number": 136
    },
    {
     "cell_type": "code",
     "collapsed": false,
     "input": [
      "# Lecture du fichier:\n",
      "conso = np.loadtxt('./S2 Objets et Calcul num\u00e9rique/RTE_conso_2010-08_2011-07.csv',\n",
      "                   delimiter=',', # les champs sont s\u00e9par\u00e9s par des virgules\n",
      "                   skiprows=4, # ne pas lire les 4 premi\u00e8res lignes (du blabla)\n",
      "                   usecols=[1]) # ne lire que la colonne *2* (comptage \u00e0 partir de 0 !)\n",
      "\n",
      "N = conso.shape[0]\n",
      "print(u'{} pts charg\u00e9s, soit {:.1f} jours'.format(N, N/24./4))\n",
      "\n",
      "# Conversion MW -> GW\n",
      "conso /= 1000."
     ],
     "language": "python",
     "metadata": {},
     "outputs": [
      {
       "output_type": "stream",
       "stream": "stdout",
       "text": [
        "35040 pts charg\u00e9s, soit 365.0 jours\n"
       ]
      }
     ],
     "prompt_number": 137
    },
    {
     "cell_type": "markdown",
     "metadata": {},
     "source": [
      "On peut faire quelques statistiques simples:"
     ]
    },
    {
     "cell_type": "code",
     "collapsed": false,
     "input": [
      "print(conso.min())\n",
      "print(conso.max())\n",
      "print(conso.mean())\n",
      "print(conso.std())"
     ],
     "language": "python",
     "metadata": {},
     "outputs": [
      {
       "output_type": "stream",
       "stream": "stdout",
       "text": [
        "30.993\n",
        "96.35\n",
        "56.1964912386\n",
        "13.0847858651\n"
       ]
      }
     ],
     "prompt_number": 134
    },
    {
     "cell_type": "markdown",
     "metadata": {},
     "source": [
      "Le pendant pour l'\u00e9criture de `np.loadtxt` est `np.savetxt`"
     ]
    },
    {
     "cell_type": "code",
     "collapsed": false,
     "input": [
      "np.savetxt?"
     ],
     "language": "python",
     "metadata": {},
     "outputs": [],
     "prompt_number": 33
    },
    {
     "cell_type": "code",
     "collapsed": false,
     "input": [
      "# TODO : faire un exemple"
     ],
     "language": "python",
     "metadata": {},
     "outputs": []
    },
    {
     "cell_type": "heading",
     "level": 3,
     "metadata": {},
     "source": [
      "B4) Trac\u00e9 de graphiques avec Matplotlib"
     ]
    },
    {
     "cell_type": "markdown",
     "metadata": {},
     "source": [
      "La biblioth\u00e8que Matplotlib ( http://matplotlib.org ) permet de r\u00e9aliser une grande palette de graphique 2D (et m\u00eame un peu 3D) avec une syntaxe fortement calqu\u00e9e sur celle de Matlab.\n",
      "\n",
      "* trac\u00e9s temporels y = f(t)\n",
      "* nuages de points (x,y)\n",
      "* histogrammes\n",
      "* images\n",
      "* ...\n",
      "\n",
      "La gallerie ( http://matplotlib.org/gallery.html ) est une bonne fa\u00e7on d'avoir un aper\u00e7u des possibilit\u00e9s de Matplotlib."
     ]
    },
    {
     "cell_type": "code",
     "collapsed": false,
     "input": [
      "# Importer l'API de Matplotlib:\n",
      "import matplotlib.pyplot as plt\n",
      "# Remarques :\n",
      "# * cet import a d\u00e9j\u00e0 \u00e9t\u00e9 r\u00e9alis\u00e9 en mode \"Pylab\"\n",
      "# * il est par contre n\u00e9cessaire dans un script\n",
      "\n",
      "# Pour un travail interactif, on s'autorisera aussi\n",
      "from matplotlib.pyplot import *"
     ],
     "language": "python",
     "metadata": {},
     "outputs": [],
     "prompt_number": 20
    },
    {
     "cell_type": "heading",
     "level": 4,
     "metadata": {},
     "source": [
      "Un exemple de graphique minimal"
     ]
    },
    {
     "cell_type": "code",
     "collapsed": false,
     "input": [
      "# Cr\u00e9ation des \"donn\u00e9es\" : un sinus\n",
      "x = np.linspace(0, 4*np.pi)\n",
      "y = np.sin(x)\n",
      "# Trac\u00e9\n",
      "plt.plot(x,y) # ligne (bleue par d\u00e9faut)\n",
      "plt.plot(x,y, 'r+') # marqueurs \"+\" rouges\n",
      "# Annotations:\n",
      "plt.title('Un sinus')\n",
      "plt.xlabel('temps t')\n",
      "plt.grid(True);"
     ],
     "language": "python",
     "metadata": {},
     "outputs": [
      {
       "output_type": "display_data",
       "png": "[encoded data removed]"
      }
     ],
     "prompt_number": 67
    },
    {
     "cell_type": "heading",
     "level": 4,
     "metadata": {},
     "source": [
      "Exemple pour le d\u00e9placement et le zoom interactif: consommation d'\u00e9lectricit\u00e9"
     ]
    },
    {
     "cell_type": "markdown",
     "metadata": {},
     "source": [
      "Lorsque qu'on travaille avec un grand nombre de points (ex : grande s\u00e9rie temporelle), l'exploration *interactive* des donn\u00e9es est particuli\u00e8rement utile.\n",
      "\n",
      "Remarque : pour manipuler des grandes s\u00e9ries de donn\u00e9es, il existe le puissant module `pandas` (Python Data Analysis Library http://pandas.pydata.org/) qui ne sera pas abord\u00e9 ici."
     ]
    },
    {
     "cell_type": "code",
     "collapsed": false,
     "input": [
      "# Vecteur temps en jours:\n",
      "t = np.arange(N)/24./4 # attention au '365.'\n",
      "t[:10]"
     ],
     "language": "python",
     "metadata": {},
     "outputs": [
      {
       "output_type": "pyout",
       "prompt_number": 118,
       "text": [
        "array([ 0.        ,  0.01041667,  0.02083333,  0.03125   ,  0.04166667,\n",
        "        0.05208333,  0.0625    ,  0.07291667,  0.08333333,  0.09375   ])"
       ]
      }
     ],
     "prompt_number": 118
    },
    {
     "cell_type": "code",
     "collapsed": false,
     "input": [
      "# %pylab qt # afficher la figure dans une fen\u00eatre interactive: n\u00e9cessite IPython 0.14 (pr\u00e9vu pour juillet 2014)\n",
      "plt.plot(t, conso)\n",
      "plt.xlabel('temps (j)')\n",
      "plt.ylabel(u'Puissance consomm\u00e9e (GW)');"
     ],
     "language": "python",
     "metadata": {},
     "outputs": [
      {
       "output_type": "display_data",
       "png": "[encoded data removed]"
      }
     ],
     "prompt_number": 127
    },
    {
     "cell_type": "markdown",
     "metadata": {},
     "source": [
      "Pour se d\u00e9placer et zoomer interactivement, utiliser la barre d'outils Matplotlib ou bien les raccourcis clavier ('p' et 'o').\n",
      "\n",
      "(ic\u00f4nes \n",
      " <img src='https://raw.github.com/matplotlib/matplotlib/master/lib/matplotlib/mpl-data/images/move.png'> et\n",
      " <img src='https://raw.github.com/matplotlib/matplotlib/master/lib/matplotlib/mpl-data/images/zoom_to_rect.png'>) \n",
      "\n",
      "* Les clic-gauche et clic-droit ont une action diff\u00e9rente !\n",
      "* Les touches 'x' et 'y' modifient \u00e9galement le comportement (d\u00e9placement/zoom horizontal ou vertical)\n"
     ]
    },
    {
     "cell_type": "code",
     "collapsed": false,
     "input": [
      "# Zoom programm\u00e9\n",
      "plt.plot(t, conso);\n",
      "plt.title('Zoom sur 2 semaines consommation')\n",
      "plt.xlabel('temps (j)')\n",
      "\n",
      "plt.xlim(99, 113);\n",
      "# il existe aussi plt.ylim"
     ],
     "language": "python",
     "metadata": {},
     "outputs": [
      {
       "output_type": "pyout",
       "prompt_number": 133,
       "text": [
        "(99, 113)"
       ]
      },
      {
       "output_type": "display_data",
       "png": "[encoded data removed]"
      }
     ],
     "prompt_number": 133
    },
    {
     "cell_type": "markdown",
     "metadata": {},
     "source": [
      "Petite question : quels jours correspondent aux *weekends* ?"
     ]
    },
    {
     "cell_type": "heading",
     "level": 4,
     "metadata": {},
     "source": [
      "Un histogramme"
     ]
    },
    {
     "cell_type": "code",
     "collapsed": false,
     "input": [
      "plt.hist(conso, bins=50, normed=False)\n",
      "# (mettre normed=True pour tracer une densit\u00e9 de probabilit\u00e9)\n",
      "plt.xlabel(u'Puissance consomm\u00e9e (GW)');"
     ],
     "language": "python",
     "metadata": {},
     "outputs": [
      {
       "output_type": "display_data",
       "png": "[encoded data removed]"
      }
     ],
     "prompt_number": 117
    },
    {
     "cell_type": "heading",
     "level": 4,
     "metadata": {},
     "source": [
      "Exemple de graphique plus complet : un diagramme de Bode"
     ]
    },
    {
     "cell_type": "markdown",
     "metadata": {},
     "source": [
      "L'enjeu de cette partie :\n",
      "\n",
      "* *tracer* un beau diagramme de Bode (gain et phase)\n",
      "* *mod\u00e9liser* une r\u00e9ponse fr\u00e9quentielle par une fonction de transfert (du 2\u00e8me ordre)."
     ]
    },
    {
     "cell_type": "code",
     "collapsed": false,
     "input": [
      "# Chargement de donn\u00e9es  (pseudo relev\u00e9 exp\u00e9rimental d'un diagramme de Bode)\n",
      "data = np.loadtxt(u'./S2 Objets et Calcul num\u00e9rique/bode_data.csv', delimiter=',')\n",
      "data.shape # nombre de lignes, nombre de colonnes"
     ],
     "language": "python",
     "metadata": {},
     "outputs": [
      {
       "output_type": "pyout",
       "prompt_number": 15,
       "text": [
        "(100, 3)"
       ]
      }
     ],
     "prompt_number": 15
    },
    {
     "cell_type": "markdown",
     "metadata": {},
     "source": [
      "Le fichier bode_data.csv contient 3 colonnes:\n",
      "\n",
      "* fr\u00e9quence (Hz)\n",
      "* gain (dB)\n",
      "* phase (\u00b0)"
     ]
    },
    {
     "cell_type": "code",
     "collapsed": false,
     "input": [
      "# S\u00e9paration des donn\u00e9es\n",
      "f = data[:,0]\n",
      "gain = data[:,1]\n",
      "phase = data[:,2]\n",
      "# ou en abr\u00e9g\u00e9:\n",
      "# f, gain, phase = data.T"
     ],
     "language": "python",
     "metadata": {},
     "outputs": [],
     "prompt_number": 7
    },
    {
     "cell_type": "code",
     "collapsed": false,
     "input": [
      "# Affichage (trac\u00e9 en \u00e9chelle lin\u00e9aire):\n",
      "plt.plot(f, gain);"
     ],
     "language": "python",
     "metadata": {},
     "outputs": [
      {
       "output_type": "display_data",
       "png": "[encoded data removed]"
      }
     ],
     "prompt_number": 76
    },
    {
     "cell_type": "markdown",
     "metadata": {},
     "source": [
      "Avec une \u00e9chelle *lin\u00e9aire* en fr\u00e9quence, on ne reconnait pas grand chose...\n",
      "\n",
      "Une solution: le graphique *log/semilog* avec les fonctions `semilogx`, `semilogy` et `loglog`. (noms de fonction Matlab)"
     ]
    },
    {
     "cell_type": "code",
     "collapsed": false,
     "input": [
      "# Trac\u00e9 en \u00e9chelle semilog pour les abscisses (la fr\u00e9quence)\n",
      "semilogx(f, gain)\n",
      "# Annotations:\n",
      "title('Diagramme de Bode')\n",
      "xlabel(u'fr\u00e9quence (Hz)')\n",
      "ylabel('gain (dB)');"
     ],
     "language": "python",
     "metadata": {},
     "outputs": [
      {
       "output_type": "display_data",
       "png": "[encoded data removed]"
      }
     ],
     "prompt_number": 21
    },
    {
     "cell_type": "markdown",
     "metadata": {},
     "source": [
      "Trac\u00e9 conjoint du gain et de la phase:\n",
      "\n",
      "pour ce graphique plus compliqu\u00e9, on utilise l'approche *Orient\u00e9 Objet* (\"OO\" API). (Accessoirement, cela dispense d'utiliser `plt.semilogx`)"
     ]
    },
    {
     "cell_type": "code",
     "collapsed": false,
     "input": [
      "fig = plt.figure('Bode', figsize=(6,6))\n",
      "ax1 = fig.add_subplot(2,1,1, xscale='log',\n",
      "                      title='Diagramme de Bode: gain (dB)')\n",
      "ax1.plot(f, gain)\n",
      "ax2 = fig.add_subplot(2,1,2, sharex=ax1,  # sharex -> synchronise les \u00e9chelles. Pratique pour zoomer !\n",
      "                      title=u'Phase (\u00b0)',\n",
      "                      xlabel=u'fr\u00e9quence (Hz)')\n",
      "ax2.plot(f, phase, 'g')\n",
      "# ajustement des \"ticks\"\n",
      "ax2.set_yticks(np.arange(0,-181,-45)) # (de 0 \u00e0 -180\u00b0, tous les 45\u00b0)\n",
      "fig.tight_layout()"
     ],
     "language": "python",
     "metadata": {},
     "outputs": [
      {
       "output_type": "display_data",
       "png": "[encoded data removed]"
      }
     ],
     "prompt_number": 68
    },
    {
     "cell_type": "markdown",
     "metadata": {},
     "source": [
      "On reconnait la fonction de tranfert d'un passe-bas du 2\u00e8me ordre\n",
      "\n",
      "$$ H(f) = \\frac{H_0}{1 + j \\frac{f}{Q f_0} - \\frac{f^2}{f_0^2}} $$ \n",
      "\n",
      "Les param\u00e8tres \u00e0 identifier sont :\n",
      "\n",
      "* le gain statique $H_0$\n",
      "* la fr\u00e9quence canonique $f_0$\n",
      "* le facteur de qualit\u00e9 $Q$"
     ]
    },
    {
     "cell_type": "heading",
     "level": 4,
     "metadata": {},
     "source": [
      "Identification des param\u00e8tres"
     ]
    },
    {
     "cell_type": "code",
     "collapsed": false,
     "input": [
      "# Observation du gain \u00e0 basse fr\u00e9quence:\n",
      "print(f[:5])\n",
      "print(gain[:5])\n",
      "gain[:5].mean()"
     ],
     "language": "python",
     "metadata": {},
     "outputs": [
      {
       "output_type": "stream",
       "stream": "stdout",
       "text": [
        "[ 100.      104.7616  109.7499  114.9757  120.4504]\n",
        "[ 6.155659  6.001112  5.810821  6.184953  6.278457]\n"
       ]
      },
      {
       "output_type": "pyout",
       "prompt_number": 27,
       "text": [
        "6.0862004000000001"
       ]
      }
     ],
     "prompt_number": 27
    },
    {
     "cell_type": "code",
     "collapsed": false,
     "input": [
      "# dB -> lin\u00e9aire\n",
      "H0_dB = 6 # dB\n",
      "print(10**(H0_dB/20.)) # Attention au point de \"20.\"\n",
      "H0 = 2"
     ],
     "language": "python",
     "metadata": {},
     "outputs": [
      {
       "output_type": "stream",
       "stream": "stdout",
       "text": [
        "1.99526231497\n"
       ]
      }
     ],
     "prompt_number": 58
    },
    {
     "cell_type": "code",
     "collapsed": false,
     "input": [
      "# Fr\u00e9quence canonique: c'est environ la fr\u00e9quence de r\u00e9sonance\n",
      "gain.max()\n",
      "i_max = gain.argmax()\n",
      "f[i_max]"
     ],
     "language": "python",
     "metadata": {},
     "outputs": [
      {
       "output_type": "pyout",
       "prompt_number": 59,
       "text": [
        "977.00995729922568"
       ]
      }
     ],
     "prompt_number": 59
    },
    {
     "cell_type": "code",
     "collapsed": false,
     "input": [
      "f0 = 1e3 "
     ],
     "language": "python",
     "metadata": {},
     "outputs": [],
     "prompt_number": 60
    },
    {
     "cell_type": "code",
     "collapsed": false,
     "input": [
      "# Facteur de qualit\u00e9 : devinette\n",
      "Q = 10"
     ],
     "language": "python",
     "metadata": {},
     "outputs": [],
     "prompt_number": 61
    },
    {
     "cell_type": "code",
     "collapsed": false,
     "input": [
      "# On construit une fonction de transfert\n",
      "N = 100 # nombre de points d'\u00e9valuation de la FT\n",
      "f = np.logspace(2, 4, 100)# de 100 \u00e0 10 kHz\n",
      "\n",
      "# Tranfert du 2\u00e8 ordre:\n",
      "H_fit = H0/(1 + 2j*f/(f0*Q) - (f/f0)**2)\n",
      "\n",
      "Habs = np.abs(H_fit)\n",
      "gain_fit = 20*np.log10(Habs) # -> dB\n",
      "phase_fit = np.angle(H_fit)*180/np.pi"
     ],
     "language": "python",
     "metadata": {},
     "outputs": [],
     "prompt_number": 62
    },
    {
     "cell_type": "markdown",
     "metadata": {},
     "source": [
      "Comparaison donn\u00e9es/mod\u00e8les (et l\u00e9gende d'un graphique)"
     ]
    },
    {
     "cell_type": "code",
     "collapsed": false,
     "input": [
      "# Par d\u00e9faut, les graphiques se superposent:\n",
      "semilogx(f, gain, '-+', label=u'donn\u00e9es')\n",
      "semilogx(f, gain_fit, label=u'mod\u00e8le')\n",
      "legend(loc='lower left');\n",
      "\n",
      "# Fabrication de la cha\u00eene de caract\u00e8re de titre:\n",
      "title_str = u'Mod\u00e9lisation du 2\u00e8 ordre: H0={:.1f}, f0={:.1f} kHz, Q={:.1f}'.format(H0, f0/1000, Q)\n",
      "# La syntaxe du \"string formatting\" : http://docs.python.org/2/library/string.html#formatstrings\n",
      "title(title_str);"
     ],
     "language": "python",
     "metadata": {},
     "outputs": [
      {
       "output_type": "display_data",
       "png": "[encoded data removed]"
      }
     ],
     "prompt_number": 75
    },
    {
     "cell_type": "markdown",
     "metadata": {},
     "source": [
      "Apparemment on a \u00e9t\u00e9 un peu optimiste pour le facteur de qualit\u00e9. $Q=5$ sera sans doute plus appropri\u00e9...\n",
      "(cf. script Bode_data_generator.py qui a fabriqu\u00e9 les donn\u00e9es)"
     ]
    },
    {
     "cell_type": "markdown",
     "metadata": {},
     "source": [
      "---\n",
      "\n",
      "*Fin de la session 2*"
     ]
    }
   ],
   "metadata": {}
  }
 ]
}
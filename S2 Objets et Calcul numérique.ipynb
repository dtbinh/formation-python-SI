{
 "metadata": {
  "name": "S2 Objets et Calcul num\u00e9rique"
 },
 "nbformat": 3,
 "nbformat_minor": 0,
 "worksheets": [
  {
   "cells": [
    {
     "cell_type": "heading",
     "level": 1,
     "metadata": {},
     "source": [
      "S\u00e9ance 2 :  Objets et Calcul num\u00e9rique"
     ]
    },
    {
     "cell_type": "markdown",
     "metadata": {},
     "source": [
      "<img src='http://www.bretagne.ens-cachan.fr/images/kerlann/logo_accueil.png'>\n",
      "<strong>Formation Python du <a href='http://www.mecatronique.bretagne.ens-cachan.fr/'>d\u00e9partement M\u00e9catronique</a></strong>"
     ]
    },
    {
     "cell_type": "markdown",
     "metadata": {},
     "source": [
      "11h00 - 12h30\n",
      "\n",
      "Pr\u00e9sentation de l'\u00e9cosyst\u00e8me Python\u00a0: environnement de d\u00e9veloppement, notion de module.\n",
      "\n",
      "*Python orient\u00e9 objet\u00a0:*\n",
      "\n",
      "* Introduction rapide aux objets avec l'exemple d'une classe \u00ab\u00a0Torseur\u00a0\u00bb.\n",
      "* M\u00e9thodes et surcharges d'op\u00e9rateurs.\n",
      "\n",
      "*Python num\u00e9rique\u00a0:*\n",
      "\n",
      "* Calcul num\u00e9rique avec la biblioth\u00e8que NumPy. Alg\u00e8bre lin\u00e9aire de base.\n",
      "* Lecture d'un fichier de donn\u00e9es exp\u00e9rimentales (fichier texte type CSV)\n",
      "* trac\u00e9 de graphiques avec Matplotlib (exemple\u00a0: diagramme de Bode)"
     ]
    },
    {
     "cell_type": "heading",
     "level": 2,
     "metadata": {},
     "source": [
      "A) Python orient\u00e9 objet"
     ]
    },
    {
     "cell_type": "heading",
     "level": 2,
     "metadata": {},
     "source": [
      "B) Python num\u00e9rique avec NumPy"
     ]
    },
    {
     "cell_type": "heading",
     "level": 3,
     "metadata": {},
     "source": [
      "B1) Pourquoi un module particulier (NumPy) ?"
     ]
    },
    {
     "cell_type": "markdown",
     "metadata": {},
     "source": [
      "Pour le calcul scientifique, on est souvent amen\u00e9 \u00e0 manipuler de *grands ensembles de nombres*.\n",
      "\n",
      "Par exemple, calculons la racine des entiers de 1 \u00e0 10 millions :"
     ]
    },
    {
     "cell_type": "code",
     "collapsed": false,
     "input": [
      "N = 10**7\n",
      "l = range(N)\n",
      "import math # racine carr\u00e9 se trouve dans le module math\n",
      "s = []\n",
      "\n",
      "for i in l: # calcul des racines, une apr\u00e8s l'autre\n",
      "    s.append(math.sqrt(i))\n",
      "\n",
      "print(type(s))\n",
      "print(s[-1])"
     ],
     "language": "python",
     "metadata": {},
     "outputs": [
      {
       "output_type": "stream",
       "stream": "stdout",
       "text": [
        "<type 'list'>\n",
        "3162.27750205\n"
       ]
      }
     ],
     "prompt_number": 16
    },
    {
     "cell_type": "markdown",
     "metadata": {},
     "source": [
      "Remarquons que ce calcul dure *quelques secondes*... \n",
      "\n",
      "Pour r\u00e9aliser les calculs num\u00e9riques efficacement, on utilise le module *NumPy*"
     ]
    },
    {
     "cell_type": "code",
     "collapsed": false,
     "input": [
      "import numpy as np\n",
      "\n",
      "l = np.arange(N) # l n'est plus une liste mais un tableau NumPy\n",
      "s = np.sqrt(l) # calcul toutes les racines \"en une fois\"\n",
      "\n",
      "print(type(s))\n",
      "print(s[-1])"
     ],
     "language": "python",
     "metadata": {},
     "outputs": [
      {
       "output_type": "stream",
       "stream": "stdout",
       "text": [
        "<type 'numpy.ndarray'>\n",
        "3162.27750205\n"
       ]
      }
     ],
     "prompt_number": 17
    },
    {
     "cell_type": "heading",
     "level": 3,
     "metadata": {},
     "source": [
      "B2) Fonctions de bases de NumPy, alg\u00e8bre lin\u00e9aire"
     ]
    },
    {
     "cell_type": "markdown",
     "metadata": {},
     "source": [
      "R\u00e9f\u00e9rence : http://python-prepa.github.io/edp_chaleur.html#introduction-rapide-a-numpy"
     ]
    },
    {
     "cell_type": "code",
     "collapsed": false,
     "input": [
      "# L'\u00e9quivalent de `range` :\n",
      "np.arange(10)"
     ],
     "language": "python",
     "metadata": {},
     "outputs": [
      {
       "output_type": "pyout",
       "prompt_number": 19,
       "text": [
        "array([0, 1, 2, 3, 4, 5, 6, 7, 8, 9])"
       ]
      }
     ],
     "prompt_number": 19
    },
    {
     "cell_type": "code",
     "collapsed": false,
     "input": [
      "print(np.zeros(5))\n",
      "print(np.ones(5))\n",
      "print(np.array([1, 2.5, 6.5]))"
     ],
     "language": "python",
     "metadata": {},
     "outputs": [
      {
       "output_type": "stream",
       "stream": "stdout",
       "text": [
        "[ 0.  0.  0.  0.  0.]\n",
        "[ 1.  1.  1.  1.  1.]\n",
        "[ 1.   2.5  6.5]\n"
       ]
      }
     ],
     "prompt_number": 24
    },
    {
     "cell_type": "markdown",
     "metadata": {},
     "source": [
      "Les tableaux NumPy contiennent des types de donn\u00e9es homog\u00e8nes :"
     ]
    },
    {
     "cell_type": "code",
     "collapsed": false,
     "input": [
      "print(np.array([1, 2, 3]).dtype) # tableau d'entier\n",
      "print(np.array([1., 2., 3.]).dtype) # tableau de flottants"
     ],
     "language": "python",
     "metadata": {},
     "outputs": [
      {
       "output_type": "stream",
       "stream": "stdout",
       "text": [
        "int64\n",
        "float64\n"
       ]
      }
     ],
     "prompt_number": 28
    },
    {
     "cell_type": "code",
     "collapsed": false,
     "input": [
      "np.array([1, 2, 3])/2"
     ],
     "language": "python",
     "metadata": {},
     "outputs": [
      {
       "output_type": "pyout",
       "prompt_number": 30,
       "text": [
        "array([0, 1, 1])"
       ]
      }
     ],
     "prompt_number": 30
    },
    {
     "cell_type": "heading",
     "level": 3,
     "metadata": {},
     "source": [
      "B3) Lecture/\u00e9criture de fichier de donn\u00e9es exp\u00e9rimentales"
     ]
    },
    {
     "cell_type": "markdown",
     "metadata": {},
     "source": [
      "Pour les fichiers texte du type CSV (nombres s\u00e9par\u00e9s par des virgules, ou autres), NumPy fournit des fonctions de lecture"
     ]
    },
    {
     "cell_type": "code",
     "collapsed": false,
     "input": [
      "np.loadtxt?\n",
      "# TODO : utiliser des donn\u00e9es d'\u00e9lectricit\u00e9 RTE"
     ],
     "language": "python",
     "metadata": {},
     "outputs": [],
     "prompt_number": 32
    },
    {
     "cell_type": "markdown",
     "metadata": {},
     "source": [
      "Le pendant pour l'\u00e9criture de `np.loadtxt` est `np.savetxt`"
     ]
    },
    {
     "cell_type": "code",
     "collapsed": false,
     "input": [
      "np.savetxt?"
     ],
     "language": "python",
     "metadata": {},
     "outputs": [],
     "prompt_number": 33
    },
    {
     "cell_type": "heading",
     "level": 3,
     "metadata": {},
     "source": [
      "B4) Trac\u00e9 de graphiques avec Matplotlib"
     ]
    },
    {
     "cell_type": "code",
     "collapsed": false,
     "input": [
      "data = np.loadtxt(u'./S2 Objets et Calcul num\u00e9rique/bode_data.csv', delimiter=',')\n",
      "data.shape"
     ],
     "language": "python",
     "metadata": {},
     "outputs": [
      {
       "output_type": "pyout",
       "prompt_number": 37,
       "text": [
        "(100, 3)"
       ]
      }
     ],
     "prompt_number": 37
    },
    {
     "cell_type": "code",
     "collapsed": false,
     "input": [
      "# S\u00e9paration des donn\u00e9es\n",
      "f = data[:,0]\n",
      "gain = data[:,1]\n",
      "phase = data[:,2]\n",
      "# ou en abr\u00e9g\u00e9:\n",
      "# f, gain, phase = data.T"
     ],
     "language": "python",
     "metadata": {},
     "outputs": [],
     "prompt_number": 41
    },
    {
     "cell_type": "code",
     "collapsed": false,
     "input": [
      "semilogx(f, gain);"
     ],
     "language": "python",
     "metadata": {},
     "outputs": [
      {
       "output_type": "display_data",
       "png": "[encoded data removed]"
      }
     ],
     "prompt_number": 44
    },
    {
     "cell_type": "code",
     "collapsed": false,
     "input": [],
     "language": "python",
     "metadata": {},
     "outputs": []
    }
   ],
   "metadata": {}
  }
 ]
}
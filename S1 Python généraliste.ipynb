{
 "metadata": {
  "name": "S1 Python g\u00e9n\u00e9raliste"
 },
 "nbformat": 3,
 "nbformat_minor": 0,
 "worksheets": [
  {
   "cells": [
    {
     "cell_type": "heading",
     "level": 1,
     "metadata": {},
     "source": [
      "S\u00e9ance 1 : Python g\u00e9n\u00e9raliste"
     ]
    },
    {
     "cell_type": "markdown",
     "metadata": {},
     "source": [
      "9h15 - 10h45\n",
      "\n",
      "Pr\u00e9sentation de l'\u00e9cosyst\u00e8me Python\u00a0: environnement de d\u00e9veloppement, notion de module.\n",
      "\n",
      "*Python g\u00e9n\u00e9raliste\u00a0:*\n",
      "\n",
      "* Instructions de bases, types de donn\u00e9es de bases\n",
      "* Manipulation de liste, manipulation de cha\u00eenes de caract\u00e8res\n",
      "* Gestion de fichiers (lecture, \u00e9criture)"
     ]
    },
    {
     "cell_type": "code",
     "collapsed": false,
     "input": [],
     "language": "python",
     "metadata": {},
     "outputs": []
    }
   ],
   "metadata": {}
  }
 ]
}
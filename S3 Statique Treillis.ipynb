{
 "metadata": {
  "name": "S3 Statique Treillis"
 },
 "nbformat": 3,
 "nbformat_minor": 0,
 "worksheets": [
  {
   "cells": [
    {
     "cell_type": "heading",
     "level": 1,
     "metadata": {},
     "source": [
      "S\u00e9ance 3 : Exemple de probl\u00e8me num\u00e9rique"
     ]
    },
    {
     "cell_type": "markdown",
     "metadata": {},
     "source": [
      "<img src='http://www.bretagne.ens-cachan.fr/images/kerlann/logo_accueil.png'>\n",
      "<strong>Formation Python du <a href='http://www.mecatronique.bretagne.ens-cachan.fr/'>d\u00e9partement M\u00e9catronique</a></strong>"
     ]
    },
    {
     "cell_type": "markdown",
     "metadata": {},
     "source": [
      "14h00 - 15h30\n",
      "\n",
      "Exemple de probl\u00e8me m\u00e9canique simple n\u00e9cessitant de mettre en \u0153uvre un algorithme num\u00e9rique (pivot de Gauss pour r\u00e9soudre \u00ab\u00a0Ax=b\u00a0\u00bb).\n",
      "\n",
      "Le probl\u00e8me choisi est **l'analyse statique d'un treillis pour calculer les actions m\u00e9caniques s'exer\u00e7ant sur les barres**\n",
      "\n",
      "* Description du probl\u00e8me.\n",
      "* Construction du probl\u00e8me et trac\u00e9 du treillis (mise en \u0153uvre de Matplotlib)\n",
      "* Construction du syst\u00e8me d'\u00e9quations lin\u00e9aires (matrices \u00ab\u00a0A et b\u00a0\u00bb) de fa\u00e7on automatis\u00e9e\n",
      "* R\u00e9solution de l'\u00e9quation \u00ab\u00a0Ax=b\u00a0\u00bb par pivot de Gauss.\n",
      "* Repr\u00e9sentation graphique des tractions/compressions."
     ]
    },
    {
     "cell_type": "heading",
     "level": 2,
     "metadata": {},
     "source": [
      "A) Description du probl\u00e8me du treillis"
     ]
    },
    {
     "cell_type": "markdown",
     "metadata": {},
     "source": [
      "Le treillis est un ensemble de barres connect\u00e9es entre elles \"en triangles\" par des liaisons pivots.\n",
      "\n",
      "Ce type de structure est par exemple utilis\u00e9 dans les grues\n",
      "\n",
      "*[TODO]* : trouver une photo de grue !\n",
      "\n",
      "Lorsque la structure est soumis \u00e0 un chargement (par ex. une masse accroch\u00e9e au bout de la grue)\n",
      "les barres travaillent en traction/compression. L'objectif est de quantifier ces actions m\u00e9caniques.\n",
      "\n",
      "Il s'agit d'un exemple de probl\u00e8me menant \u00e0 la r\u00e9solution d'un syst\u00e8me d'\u00e9quations lin\u00e9aires (\"Ax=b\"). Ces \u00e9quations seront issues du principe de la statique.\n",
      "\n",
      "Remarque : dans un domaine tout autre (\u00e9lectricit\u00e9), on obtiendrait des \u00e9quations similaires en cherchant les courants dans un r\u00e9seau de r\u00e9sistances."
     ]
    },
    {
     "cell_type": "heading",
     "level": 2,
     "metadata": {},
     "source": [
      "B) Construction du probl\u00e8me"
     ]
    },
    {
     "cell_type": "markdown",
     "metadata": {},
     "source": [
      "Avant de r\u00e9soudre Ax=b, il faut construire la matrice A et le vecteur b,\n",
      "mais pour construire ces matrices, il faut d'abord cr\u00e9er les donn\u00e9es qui *d\u00e9crivent le probl\u00e8me*."
     ]
    },
    {
     "cell_type": "heading",
     "level": 3,
     "metadata": {},
     "source": [
      "B1) Construction des donn\u00e9es"
     ]
    },
    {
     "cell_type": "markdown",
     "metadata": {},
     "source": [
      "On construit d'abord la liste contenant la position (dans un plan) des pivots.\n",
      "On peut choisir (par exemple) d'utiliser une liste de tuples :"
     ]
    },
    {
     "cell_type": "code",
     "collapsed": false,
     "input": [
      "pivots = [(0, 0), (1, 2), (2, 0), (3, 2), (4, 0)]\n",
      "N_piv = len(pivots)"
     ],
     "language": "python",
     "metadata": {},
     "outputs": [],
     "prompt_number": 20
    },
    {
     "cell_type": "markdown",
     "metadata": {},
     "source": [
      "Repr\u00e9sentation graphique (ou l'int\u00e9r\u00eat de travailler interactivement)"
     ]
    },
    {
     "cell_type": "code",
     "collapsed": false,
     "input": [
      "# Conversion en tablea NumPy pour b\u00e9n\u00e9ficier des facilit\u00e9s du slicing\n",
      "pivots_arr = np.array(pivots)\n",
      "\n",
      "# Trac\u00e9s en boucle:\n",
      "for piv in pivots:\n",
      "    plt.plot(piv[0], piv[1], 'o')\n",
      "\n",
      "# Ajustements des limites :\n",
      "xlim(-.5, 4.5)\n",
      "ylim(-.5, 2.5);"
     ],
     "language": "python",
     "metadata": {},
     "outputs": [
      {
       "output_type": "display_data",
       "png": "[encoded data removed]"
      }
     ],
     "prompt_number": 18
    },
    {
     "cell_type": "markdown",
     "metadata": {},
     "source": [
      "On cr\u00e9er ensuite la liste des barres. Ici on choisit une liste de paires contenant les points.\n",
      "On aurait pu aussi utiliser une liste de paires contenant les indices de ces points dans la liste `pivots`."
     ]
    },
    {
     "cell_type": "code",
     "collapsed": false,
     "input": [
      "barres = [\n",
      " ((0, 0), (2, 0)), # barre entre le pt (0,0) et le pt (2,0)\n",
      " ((1, 2), (2, 0)),\n",
      " ((1, 2), (3, 2)),\n",
      " ((2, 0), (3, 2)),\n",
      " ((2, 0), (4, 0)),\n",
      " ((3, 2), (4, 0))]"
     ],
     "language": "python",
     "metadata": {},
     "outputs": [],
     "prompt_number": 12
    },
    {
     "cell_type": "markdown",
     "metadata": {},
     "source": [
      "Repr\u00e9sentation graphique :"
     ]
    },
    {
     "cell_type": "code",
     "collapsed": false,
     "input": [
      "# Trac\u00e9 des barres, en boucle :\n",
      "for j, bj in enumerate(barres):\n",
      "    # Coordonn\u00e9es des 2 pivots d'accroche:\n",
      "    (x1,y1), (x2, y2) = bj\n",
      "    color = (.5, .5, .8)\n",
      "    plt.plot((x1, x2), (y1, y2), '-', color = color, lw=4, zorder=1)\n",
      "\n",
      "# Trac\u00e9s en boucle :\n",
      "for piv in pivots:\n",
      "    plt.plot(piv[0], piv[1], 'ro')\n",
      "\n",
      "# Ajustements des limites :\n",
      "xlim(-.5, 4.5)\n",
      "ylim(-.5, 2.5);"
     ],
     "language": "python",
     "metadata": {},
     "outputs": [
      {
       "output_type": "display_data",
       "png": "[encoded data removed]"
      }
     ],
     "prompt_number": 19
    },
    {
     "cell_type": "markdown",
     "metadata": {},
     "source": [
      "Remarque 1 : les 2 premiers points \u00e0 gauche vont servir de points d'accroche.\n",
      "\n",
      "Remarque 2 : le script `treillis.py` permet de fabriquer un treillis avec un nombre arbitraire de pivot et une forme y=f(x) ajustable. Les barres sont g\u00e9n\u00e9r\u00e9es automatiquement."
     ]
    },
    {
     "cell_type": "heading",
     "level": 4,
     "metadata": {},
     "source": [
      "Description du chargement\n"
     ]
    },
    {
     "cell_type": "code",
     "collapsed": false,
     "input": [
      "F_ext = np.zeros((N_piv, 2))\n",
      "\n",
      "# Appui sur le dernier pivot:\n",
      "F_ext[-1] = (0., -1) # effort vers le bas\n",
      "\n",
      "## Pesanteur sur tous les pivots:\n",
      "#F_ext[:,1] = -1/N_piv\n",
      "\n",
      "F_ext.T"
     ],
     "language": "python",
     "metadata": {},
     "outputs": [
      {
       "output_type": "pyout",
       "prompt_number": 22,
       "text": [
        "array([[ 0.,  0.,  0.,  0.,  0.],\n",
        "       [ 0.,  0.,  0.,  0., -1.]])"
       ]
      }
     ],
     "prompt_number": 22
    },
    {
     "cell_type": "heading",
     "level": 3,
     "metadata": {},
     "source": [
      "B2) Construction des \u00e9quations (matrices A et b)"
     ]
    },
    {
     "cell_type": "markdown",
     "metadata": {},
     "source": [
      "Les variables :\n",
      "\n",
      "Les \u00e9quations d\u00e9rivent de l'application du principe de la statique \u00e0 chaque pivot"
     ]
    },
    {
     "cell_type": "code",
     "collapsed": false,
     "input": [],
     "language": "python",
     "metadata": {},
     "outputs": []
    },
    {
     "cell_type": "heading",
     "level": 2,
     "metadata": {},
     "source": [
      "C) R\u00e9solution du probl\u00e8me, pivot de Gauss"
     ]
    },
    {
     "cell_type": "code",
     "collapsed": false,
     "input": [
      "Ab = np.vstack((A,b))"
     ],
     "language": "python",
     "metadata": {},
     "outputs": []
    },
    {
     "cell_type": "heading",
     "level": 2,
     "metadata": {},
     "source": [
      "D) Repr\u00e9sentation graphique de la solution"
     ]
    },
    {
     "cell_type": "markdown",
     "metadata": {},
     "source": [
      "Repr\u00e9sentation graphique des tractions/compression avec Matplotlib"
     ]
    },
    {
     "cell_type": "code",
     "collapsed": false,
     "input": [],
     "language": "python",
     "metadata": {},
     "outputs": []
    },
    {
     "cell_type": "markdown",
     "metadata": {},
     "source": [
      "---\n",
      "\n",
      "*fin de la session 3*"
     ]
    }
   ],
   "metadata": {}
  }
 ]
}
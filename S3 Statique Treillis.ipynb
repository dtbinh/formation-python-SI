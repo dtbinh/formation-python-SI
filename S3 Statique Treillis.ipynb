{
 "metadata": {
  "name": "S3 Statique Treillis"
 },
 "nbformat": 3,
 "nbformat_minor": 0,
 "worksheets": [
  {
   "cells": [
    {
     "cell_type": "heading",
     "level": 1,
     "metadata": {},
     "source": [
      "S\u00e9ance 3 : Exemple de probl\u00e8me num\u00e9rique"
     ]
    },
    {
     "cell_type": "markdown",
     "metadata": {},
     "source": [
      "14h00 - 15h30\n",
      "\n",
      "Exemple de probl\u00e8me m\u00e9canique simple n\u00e9cessitant de mettre en \u0153uvre un algorithme num\u00e9rique (pivot de Gauss pour r\u00e9soudre \u00ab\u00a0Ax=b\u00a0\u00bb).\n",
      "\n",
      "Le probl\u00e8me choisi est **l'analyse statique d'un treillis pour calculer les actions m\u00e9caniques s'exer\u00e7ant sur les barres**\n",
      "\n",
      "* Description du probl\u00e8me.\n",
      "* Construction du probl\u00e8me et trac\u00e9 du treillis (mise en \u0153uvre de Matplotlib)\n",
      "* Construction du syst\u00e8me d'\u00e9quations lin\u00e9aires (matrices \u00ab\u00a0A et b\u00a0\u00bb) de fa\u00e7on automatis\u00e9e\n",
      "* R\u00e9solution de l'\u00e9quation \u00ab\u00a0Ax=b\u00a0\u00bb par pivot de Gauss.\n",
      "* Repr\u00e9sentation graphique des tractions/compressions."
     ]
    },
    {
     "cell_type": "code",
     "collapsed": false,
     "input": [],
     "language": "python",
     "metadata": {},
     "outputs": []
    }
   ],
   "metadata": {}
  }
 ]
}